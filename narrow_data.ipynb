{
 "cells": [
  {
   "cell_type": "code",
   "execution_count": 1,
   "metadata": {},
   "outputs": [
    {
     "name": "stdout",
     "output_type": "stream",
     "text": [
      "<class 'pandas.core.frame.DataFrame'>\n",
      "Index: 4307979 entries, 0 to 215011\n",
      "Data columns (total 12 columns):\n",
      " #   Column                Dtype \n",
      "---  ------                ----- \n",
      " 0   class                 object\n",
      " 1   tweet_id              int64 \n",
      " 2   day                   object\n",
      " 3   time                  object\n",
      " 4   tweet                 object\n",
      " 5   clean_tweet           object\n",
      " 6   tweet_favorite_count  int64 \n",
      " 7   tweet_retweet_count   int64 \n",
      " 8   tweet_source          object\n",
      " 9   user_id               int64 \n",
      " 10  user_followers_count  int64 \n",
      " 11  user_friends_count    int64 \n",
      "dtypes: int64(6), object(6)\n",
      "memory usage: 427.3+ MB\n"
     ]
    }
   ],
   "source": [
    "import dask.dataframe as ddf\n",
    "import pandas as pd\n",
    "\n",
    "df = ddf.read_csv('/Users/jianhongxu/python_project/twitter_dataset/combined_user.csv').compute()\n",
    "\n",
    "df.info()\n"
   ]
  },
  {
   "cell_type": "code",
   "execution_count": 2,
   "metadata": {},
   "outputs": [
    {
     "name": "stderr",
     "output_type": "stream",
     "text": [
      "/var/folders/hw/0mhbk5ds3899rhvr34p9j0qr0000gp/T/ipykernel_77218/3429362494.py:3: DeprecationWarning: DataFrameGroupBy.apply operated on the grouping columns. This behavior is deprecated, and in a future version of pandas the grouping columns will be excluded from the operation. Either pass `include_groups=False` to exclude the groupings or explicitly select the grouping columns after groupby to silence this warning.\n",
      "  stratified_sample_df = df.groupby('class').apply(lambda x:x.sample(n=samples_per_class)).reset_index(drop=True)\n"
     ]
    }
   ],
   "source": [
    "samples_per_class = 2500\n",
    "\n",
    "stratified_sample_df = df.groupby('class').apply(lambda x:x.sample(n=samples_per_class)).reset_index(drop=True)\n"
   ]
  },
  {
   "cell_type": "code",
   "execution_count": 3,
   "metadata": {},
   "outputs": [
    {
     "data": {
      "text/plain": [
       "class\n",
       "ADHD          2500\n",
       "BIPOLAR       2500\n",
       "CONTROL       2500\n",
       "DEPRESSION    2500\n",
       "Name: count, dtype: int64"
      ]
     },
     "execution_count": 3,
     "metadata": {},
     "output_type": "execute_result"
    }
   ],
   "source": [
    "stratified_sample_df['class'].value_counts()"
   ]
  },
  {
   "cell_type": "code",
   "execution_count": 4,
   "metadata": {},
   "outputs": [
    {
     "name": "stdout",
     "output_type": "stream",
     "text": [
      "<class 'pandas.core.frame.DataFrame'>\n",
      "RangeIndex: 10000 entries, 0 to 9999\n",
      "Data columns (total 12 columns):\n",
      " #   Column                Non-Null Count  Dtype \n",
      "---  ------                --------------  ----- \n",
      " 0   class                 10000 non-null  object\n",
      " 1   tweet_id              10000 non-null  int64 \n",
      " 2   day                   10000 non-null  object\n",
      " 3   time                  10000 non-null  object\n",
      " 4   tweet                 10000 non-null  object\n",
      " 5   clean_tweet           10000 non-null  object\n",
      " 6   tweet_favorite_count  10000 non-null  int64 \n",
      " 7   tweet_retweet_count   10000 non-null  int64 \n",
      " 8   tweet_source          10000 non-null  object\n",
      " 9   user_id               10000 non-null  int64 \n",
      " 10  user_followers_count  10000 non-null  int64 \n",
      " 11  user_friends_count    10000 non-null  int64 \n",
      "dtypes: int64(6), object(6)\n",
      "memory usage: 937.6+ KB\n"
     ]
    }
   ],
   "source": [
    "stratified_sample_df.info()"
   ]
  },
  {
   "cell_type": "code",
   "execution_count": 5,
   "metadata": {},
   "outputs": [
    {
     "data": {
      "text/html": [
       "<div>\n",
       "<style scoped>\n",
       "    .dataframe tbody tr th:only-of-type {\n",
       "        vertical-align: middle;\n",
       "    }\n",
       "\n",
       "    .dataframe tbody tr th {\n",
       "        vertical-align: top;\n",
       "    }\n",
       "\n",
       "    .dataframe thead th {\n",
       "        text-align: right;\n",
       "    }\n",
       "</style>\n",
       "<table border=\"1\" class=\"dataframe\">\n",
       "  <thead>\n",
       "    <tr style=\"text-align: right;\">\n",
       "      <th></th>\n",
       "      <th>class</th>\n",
       "      <th>tweet</th>\n",
       "    </tr>\n",
       "  </thead>\n",
       "  <tbody>\n",
       "    <tr>\n",
       "      <th>0</th>\n",
       "      <td>ADHD</td>\n",
       "      <td>\"one person followed me // automatically check...</td>\n",
       "    </tr>\n",
       "    <tr>\n",
       "      <th>1</th>\n",
       "      <td>ADHD</td>\n",
       "      <td>\"@USER you message me, im too lazy to switch a...</td>\n",
       "    </tr>\n",
       "    <tr>\n",
       "      <th>2</th>\n",
       "      <td>ADHD</td>\n",
       "      <td>\"@USER @USER And if they need a few more days ...</td>\n",
       "    </tr>\n",
       "    <tr>\n",
       "      <th>3</th>\n",
       "      <td>ADHD</td>\n",
       "      <td>\"@USER @USER We must find the perfect candidat...</td>\n",
       "    </tr>\n",
       "    <tr>\n",
       "      <th>4</th>\n",
       "      <td>ADHD</td>\n",
       "      <td>\"@USER @USER Looking familiar 😄 HTTPURL\"</td>\n",
       "    </tr>\n",
       "  </tbody>\n",
       "</table>\n",
       "</div>"
      ],
      "text/plain": [
       "  class                                              tweet\n",
       "0  ADHD  \"one person followed me // automatically check...\n",
       "1  ADHD  \"@USER you message me, im too lazy to switch a...\n",
       "2  ADHD  \"@USER @USER And if they need a few more days ...\n",
       "3  ADHD  \"@USER @USER We must find the perfect candidat...\n",
       "4  ADHD           \"@USER @USER Looking familiar 😄 HTTPURL\""
      ]
     },
     "execution_count": 5,
     "metadata": {},
     "output_type": "execute_result"
    }
   ],
   "source": [
    "df = stratified_sample_df[['class','tweet']]\n",
    "df.head(5)"
   ]
  },
  {
   "cell_type": "code",
   "execution_count": 6,
   "metadata": {},
   "outputs": [],
   "source": [
    "df.to_csv(\"raw_tweet_10k.csv\", index=False)"
   ]
  }
 ],
 "metadata": {
  "kernelspec": {
   "display_name": "Python 3",
   "language": "python",
   "name": "python3"
  },
  "language_info": {
   "codemirror_mode": {
    "name": "ipython",
    "version": 3
   },
   "file_extension": ".py",
   "mimetype": "text/x-python",
   "name": "python",
   "nbconvert_exporter": "python",
   "pygments_lexer": "ipython3",
   "version": "3.9.6"
  }
 },
 "nbformat": 4,
 "nbformat_minor": 2
}
