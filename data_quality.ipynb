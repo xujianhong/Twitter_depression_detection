{
 "cells": [
  {
   "cell_type": "code",
   "execution_count": 20,
   "metadata": {},
   "outputs": [
    {
     "name": "stdout",
     "output_type": "stream",
     "text": [
      "<class 'pandas.core.frame.DataFrame'>\n",
      "RangeIndex: 10000 entries, 0 to 9999\n",
      "Data columns (total 2 columns):\n",
      " #   Column  Non-Null Count  Dtype \n",
      "---  ------  --------------  ----- \n",
      " 0   class   10000 non-null  object\n",
      " 1   tweet   10000 non-null  object\n",
      "dtypes: object(2)\n",
      "memory usage: 156.4+ KB\n"
     ]
    }
   ],
   "source": [
    "import pandas as pd\n",
    "\n",
    "df = pd.read_csv(\"/Users/jianhongxu/python_project/twitter_dataset/cleaned_tweet_10k.csv\")\n",
    "df.info()"
   ]
  },
  {
   "cell_type": "code",
   "execution_count": 2,
   "metadata": {},
   "outputs": [
    {
     "name": "stdout",
     "output_type": "stream",
     "text": [
      "Missing values:\n",
      " class    0\n",
      "tweet    0\n",
      "dtype: int64\n"
     ]
    }
   ],
   "source": [
    "print(\"Missing values:\\n\", df.isnull().sum())"
   ]
  },
  {
   "cell_type": "code",
   "execution_count": 9,
   "metadata": {},
   "outputs": [
    {
     "name": "stdout",
     "output_type": "stream",
     "text": [
      "Duplicate rows: 34\n"
     ]
    }
   ],
   "source": [
    "print(\"Duplicate rows:\", df.duplicated().sum())"
   ]
  },
  {
   "cell_type": "code",
   "execution_count": 21,
   "metadata": {},
   "outputs": [
    {
     "name": "stdout",
     "output_type": "stream",
     "text": [
      "Duplicate rows based on all columns:\n",
      "            class                                              tweet\n",
      "812         ADHD  death tragedy million deaths statistic deaths ...\n",
      "3888     BIPOLAR  writings mother bipolar bandit part next manic...\n",
      "5118     CONTROL  create custom handmade crochet pieces added ba...\n",
      "5303     CONTROL  role heart health w dr brittany messer pharmd ...\n",
      "5391     CONTROL  create custom handmade crochet pieces check us...\n",
      "5467     CONTROL  f humidity percent barometer low f high f rain...\n",
      "5505     CONTROL  xbt bitmex trollbox stats long contracts short...\n",
      "5620     CONTROL  pm f humidity percent barometer low f high f p...\n",
      "5696     CONTROL  kids getting pardons giuliani pardon capitol r...\n",
      "5754     CONTROL  create custom handmade crochet pieces check us...\n",
      "5873     CONTROL  xbt bitmex trollbox stats long contracts short...\n",
      "5884     CONTROL  kids getting pardons giuliani pardon capitol r...\n",
      "5897     CONTROL  pm f humidity percent barometer low f high f p...\n",
      "6060     CONTROL  xbt bitmex trollbox stats long contracts short...\n",
      "6489     CONTROL  pm f humidity percent barometer low f high f p...\n",
      "6574     CONTROL  xbt bitmex trollbox stats long contracts short...\n",
      "6588     CONTROL  xbt bitmex trollbox stats long contracts short...\n",
      "6802     CONTROL  xbt bitmex trollbox stats long contracts short...\n",
      "6879     CONTROL  f humidity percent barometer low f high f rain...\n",
      "6885     CONTROL  create custom handmade crochet pieces check us...\n",
      "7019     CONTROL  f humidity percent barometer low f high f rain...\n",
      "7032     CONTROL  todays evening pick draw result click get full...\n",
      "7138     CONTROL  การตลาดแนวใหม่ โดยโซเชียลมีเดีย facebook line ...\n",
      "7267     CONTROL  xbt bitmex trollbox stats long contracts short...\n",
      "7306     CONTROL  create custom handmade crochet pieces check us...\n",
      "7384     CONTROL  two book series rise fall skye wright kindle w...\n",
      "8251  DEPRESSION  planned second child first outgrew toys wed pu...\n",
      "8800  DEPRESSION  one many things feared rounded first trimester...\n",
      "8859  DEPRESSION  needed space space arguing kids space tension ...\n",
      "8963  DEPRESSION  planned second child first outgrew toys wed pu...\n",
      "9021  DEPRESSION  last baby hold last baby whose soft body smell...\n",
      "9057  DEPRESSION  every parent warned us wed prepared one gave u...\n",
      "9247  DEPRESSION  following gluten free diet home feel like chal...\n",
      "9838  DEPRESSION  help us serve better want hear yes take quick ...\n"
     ]
    }
   ],
   "source": [
    "duplicates = df[df.duplicated()]\n",
    "print(\"Duplicate rows based on all columns:\\n\",duplicates)"
   ]
  },
  {
   "cell_type": "code",
   "execution_count": 22,
   "metadata": {},
   "outputs": [
    {
     "name": "stdout",
     "output_type": "stream",
     "text": [
      "Duplicate rows based on 'tweet':\n",
      "            class                                              tweet\n",
      "812         ADHD  death tragedy million deaths statistic deaths ...\n",
      "3888     BIPOLAR  writings mother bipolar bandit part next manic...\n",
      "5118     CONTROL  create custom handmade crochet pieces added ba...\n",
      "5303     CONTROL  role heart health w dr brittany messer pharmd ...\n",
      "5391     CONTROL  create custom handmade crochet pieces check us...\n",
      "5467     CONTROL  f humidity percent barometer low f high f rain...\n",
      "5505     CONTROL  xbt bitmex trollbox stats long contracts short...\n",
      "5620     CONTROL  pm f humidity percent barometer low f high f p...\n",
      "5696     CONTROL  kids getting pardons giuliani pardon capitol r...\n",
      "5754     CONTROL  create custom handmade crochet pieces check us...\n",
      "5873     CONTROL  xbt bitmex trollbox stats long contracts short...\n",
      "5884     CONTROL  kids getting pardons giuliani pardon capitol r...\n",
      "5897     CONTROL  pm f humidity percent barometer low f high f p...\n",
      "6060     CONTROL  xbt bitmex trollbox stats long contracts short...\n",
      "6489     CONTROL  pm f humidity percent barometer low f high f p...\n",
      "6574     CONTROL  xbt bitmex trollbox stats long contracts short...\n",
      "6588     CONTROL  xbt bitmex trollbox stats long contracts short...\n",
      "6802     CONTROL  xbt bitmex trollbox stats long contracts short...\n",
      "6879     CONTROL  f humidity percent barometer low f high f rain...\n",
      "6885     CONTROL  create custom handmade crochet pieces check us...\n",
      "7019     CONTROL  f humidity percent barometer low f high f rain...\n",
      "7032     CONTROL  todays evening pick draw result click get full...\n",
      "7138     CONTROL  การตลาดแนวใหม่ โดยโซเชียลมีเดีย facebook line ...\n",
      "7267     CONTROL  xbt bitmex trollbox stats long contracts short...\n",
      "7306     CONTROL  create custom handmade crochet pieces check us...\n",
      "7384     CONTROL  two book series rise fall skye wright kindle w...\n",
      "8251  DEPRESSION  planned second child first outgrew toys wed pu...\n",
      "8800  DEPRESSION  one many things feared rounded first trimester...\n",
      "8859  DEPRESSION  needed space space arguing kids space tension ...\n",
      "8963  DEPRESSION  planned second child first outgrew toys wed pu...\n",
      "9021  DEPRESSION  last baby hold last baby whose soft body smell...\n",
      "9057  DEPRESSION  every parent warned us wed prepared one gave u...\n",
      "9247  DEPRESSION  following gluten free diet home feel like chal...\n",
      "9838  DEPRESSION  help us serve better want hear yes take quick ...\n"
     ]
    }
   ],
   "source": [
    "duplicates_specific = df[df.duplicated(subset=['tweet'])]\n",
    "print(\"Duplicate rows based on 'tweet':\\n\",duplicates_specific)"
   ]
  },
  {
   "cell_type": "code",
   "execution_count": 6,
   "metadata": {},
   "outputs": [
    {
     "data": {
      "text/plain": [
       "class\n",
       "ADHD          2500\n",
       "BIPOLAR       2500\n",
       "CONTROL       2500\n",
       "DEPRESSION    2500\n",
       "Name: count, dtype: int64"
      ]
     },
     "execution_count": 6,
     "metadata": {},
     "output_type": "execute_result"
    }
   ],
   "source": [
    "df['class'].value_counts()"
   ]
  },
  {
   "cell_type": "code",
   "execution_count": 10,
   "metadata": {},
   "outputs": [
    {
     "name": "stdout",
     "output_type": "stream",
     "text": [
      "Text length statistics:\n",
      " count    10000.000000\n",
      "mean        16.501000\n",
      "std          5.404047\n",
      "min         10.000000\n",
      "25%         12.000000\n",
      "50%         15.000000\n",
      "75%         21.000000\n",
      "max         29.000000\n",
      "Name: txt_length, dtype: float64\n"
     ]
    }
   ],
   "source": [
    "df[\"txt_length\"] = df['tweet'].apply(lambda x: len(str(x).split()))\n",
    "\n",
    "print(\"Text length statistics:\\n\", df['txt_length'].describe())"
   ]
  },
  {
   "cell_type": "code",
   "execution_count": 11,
   "metadata": {},
   "outputs": [],
   "source": [
    "import re \n",
    "\n",
    "df = df[~df['tweet'].str.contains(r'^[^a-zA-Z0-9]+$')]\n",
    "df = df[~df['tweet'].str.contains(r'http')]"
   ]
  },
  {
   "cell_type": "code",
   "execution_count": 12,
   "metadata": {},
   "outputs": [
    {
     "data": {
      "text/plain": [
       "(10000, 3)"
      ]
     },
     "execution_count": 12,
     "metadata": {},
     "output_type": "execute_result"
    }
   ],
   "source": [
    "df.shape"
   ]
  },
  {
   "cell_type": "code",
   "execution_count": 13,
   "metadata": {},
   "outputs": [
    {
     "name": "stdout",
     "output_type": "stream",
     "text": [
      "Most common words: [('face', 1764), ('im', 1682), ('like', 1536), ('dont', 1123), ('people', 1000), ('get', 958), ('one', 853), ('know', 797), ('amp', 745), ('crying', 703)]\n",
      "Least common words: [('colorful', 1), ('alsp', 1), ('facehigh', 1), ('burntout', 1), ('facethumbs', 1), ('±', 1), ('blessingspurple', 1), ('livesfull', 1), ('eianampanji', 1), ('bashers', 1)]\n"
     ]
    }
   ],
   "source": [
    "from collections import Counter\n",
    "\n",
    "all_words = ' '.join(df['tweet']).split()\n",
    "word_freq = Counter(all_words)\n",
    "\n",
    "print(\"Most common words:\", word_freq.most_common(10))\n",
    "print(\"Least common words:\", word_freq.most_common()[:-11:-1])"
   ]
  },
  {
   "cell_type": "code",
   "execution_count": 14,
   "metadata": {},
   "outputs": [
    {
     "name": "stdout",
     "output_type": "stream",
     "text": [
      "           class                                              tweet  \\\n",
      "8530  DEPRESSION  whats good temperature dab cus im going like b...   \n",
      "6341     CONTROL  know q started jfk tried exposing deep statece...   \n",
      "1166        ADHD  possible use dot com domain host ethereum bloc...   \n",
      "1695        ADHD  group project partner one classes wrote entire...   \n",
      "4957     BIPOLAR  religious christian boarding school th birthda...   \n",
      "6843     CONTROL  definitely one better takes damn man christian...   \n",
      "3674     BIPOLAR  mood feel like got suit another maker wouldnt ...   \n",
      "8579  DEPRESSION  help us serve better want hear yes take quick ...   \n",
      "6191     CONTROL  rt cognizant specific need talent role came us...   \n",
      "4114     BIPOLAR  science behaving sexuality exact science nothi...   \n",
      "\n",
      "      txt_length  \n",
      "8530          11  \n",
      "6341          20  \n",
      "1166          10  \n",
      "1695          27  \n",
      "4957          18  \n",
      "6843          12  \n",
      "3674          18  \n",
      "8579          20  \n",
      "6191          11  \n",
      "4114          16  \n"
     ]
    }
   ],
   "source": [
    "print(df.sample(10))"
   ]
  },
  {
   "cell_type": "code",
   "execution_count": 17,
   "metadata": {},
   "outputs": [
    {
     "data": {
      "image/png": "[encoded data removed]",
      "text/plain": [
       "<Figure size 640x480 with 1 Axes>"
      ]
     },
     "metadata": {},
     "output_type": "display_data"
    }
   ],
   "source": [
    "import matplotlib.pyplot as plt\n",
    "# !pip install seaborn\n",
    "import seaborn as sns\n",
    "sns.countplot(df['class'])\n",
    "plt.title(\"Class Distrbution\")\n",
    "plt.show()\n",
    "\n"
   ]
  }
 ],
 "metadata": {
  "kernelspec": {
   "display_name": "Python 3",
   "language": "python",
   "name": "python3"
  },
  "language_info": {
   "codemirror_mode": {
    "name": "ipython",
    "version": 3
   },
   "file_extension": ".py",
   "mimetype": "text/x-python",
   "name": "python",
   "nbconvert_exporter": "python",
   "pygments_lexer": "ipython3",
   "version": "3.9.6"
  }
 },
 "nbformat": 4,
 "nbformat_minor": 2
}
