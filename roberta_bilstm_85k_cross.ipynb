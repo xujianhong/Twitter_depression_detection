{
 "cells": [
  {
   "cell_type": "code",
   "execution_count": 18,
   "metadata": {},
   "outputs": [],
   "source": [
    "from transformers import RobertaModel, RobertaTokenizer, DataCollatorWithPadding\n",
    "from transformers import get_scheduler\n",
    "import torch\n",
    "import torch.nn as nn\n",
    "from torch.utils.data import DataLoader\n",
    "import numpy as np\n",
    "import pandas as pd\n",
    "from datasets import load_dataset\n",
    "from sklearn.metrics import classification_report, confusion_matrix\n",
    "import seaborn as sns\n",
    "import matplotlib.pyplot as plt\n",
    "from tqdm.notebook import tqdm\n"
   ]
  },
  {
   "cell_type": "code",
   "execution_count": 4,
   "metadata": {},
   "outputs": [],
   "source": [
    "# checkpoint = '/root/autodl-tmp/cache'\n",
    "class RobertaBilstmClassifier(nn.Module):\n",
    "    def __init__(self,checkpoint='roberta-base', num_classes=3, hidden_size=32):\n",
    "        super(RobertaBilstmClassifier, self).__init__()\n",
    "        self.roberta = RobertaModel.from_pretrained(checkpoint)\n",
    "        \n",
    "        self.dropout = nn.Dropout(0.3)\n",
    "        self.lstm = nn.LSTM(input_size=self.roberta.config.hidden_size, \n",
    "                            hidden_size=hidden_size, \n",
    "                            bidirectional=True, \n",
    "                            batch_first=True,\n",
    "                            dropout=0.2,\n",
    "                            )\n",
    "        self.fc1 = nn.Linear(hidden_size * 2, 32) # Multiply by 2 for bidirectional LSTM\n",
    "        self.activation = nn.SiLU()  #Swish activation\n",
    "        self.fc2 = nn.Linear(32, num_classes)\n",
    "        self.softmax = nn.Softmax(dim=1)\n",
    "\n",
    "    def forward(self, input_ids, attention_mask):\n",
    "        roberta_output = self.roberta(\n",
    "            input_ids=input_ids,\n",
    "            attention_mask=attention_mask,\n",
    "        )\n",
    "        sequence_output = roberta_output.last_hidden_state  # Shape: (batch_size, seq_len, hidden_size)\n",
    "\n",
    "        # sequence_output = self.dropout(sequence_output) # first dropout\n",
    "\n",
    "        lstm_output, _ = self.lstm(sequence_output)\n",
    "        lstm_output = lstm_output[:, -1, :]\n",
    "\n",
    "        # lstm_output = self.dropout(lstm_output)# second dropout\n",
    "\n",
    "        fc1_output = self.fc1(lstm_output)\n",
    "\n",
    "        fc1_output = self.activation(fc1_output)\n",
    "\n",
    "        # fc1_output = self.dropout(fc1_output) # third dropout\n",
    "\n",
    "        fc2_output = self.fc2(fc1_output)\n",
    "\n",
    "        output = self.softmax(fc2_output)\n",
    "        return output\n"
   ]
  },
  {
   "cell_type": "code",
   "execution_count": 5,
   "metadata": {},
   "outputs": [
    {
     "data": {
      "text/plain": [
       "DatasetDict({\n",
       "    train: Dataset({\n",
       "        features: ['tweet', 'class'],\n",
       "        num_rows: 68306\n",
       "    })\n",
       "    test: Dataset({\n",
       "        features: ['tweet', 'class'],\n",
       "        num_rows: 17077\n",
       "    })\n",
       "})"
      ]
     },
     "execution_count": 5,
     "metadata": {},
     "output_type": "execute_result"
    }
   ],
   "source": [
    "# Load dataset\n",
    "data_files = {\"train\": \"/Users/jianhongxu/python_project/twitter_dataset/data/train_dataset_85k.csv\",\n",
    "               \"test\": \"/Users/jianhongxu/python_project/twitter_dataset/data/test_dataset_85k.csv\"}\n",
    "raw_datasets = load_dataset(\"csv\",data_files=data_files)\n",
    "raw_datasets"
   ]
  },
  {
   "cell_type": "code",
   "execution_count": 6,
   "metadata": {},
   "outputs": [
    {
     "data": {
      "text/plain": [
       "['ADHD', 'BIPOLAR', 'DEPRESSION']"
      ]
     },
     "execution_count": 6,
     "metadata": {},
     "output_type": "execute_result"
    }
   ],
   "source": [
    "unique_labels = list(set(raw_datasets['train']['class']))\n",
    "unique_labels"
   ]
  },
  {
   "cell_type": "code",
   "execution_count": 7,
   "metadata": {},
   "outputs": [
    {
     "data": {
      "text/plain": [
       "{'tweet': 'marked as toread have you seen me by kate white httpurl',\n",
       " 'labels': 0}"
      ]
     },
     "execution_count": 7,
     "metadata": {},
     "output_type": "execute_result"
    }
   ],
   "source": [
    "from datasets import ClassLabel\n",
    "raw_datasets = raw_datasets.rename_column(\"class\",\"labels\")\n",
    "raw_datasets = raw_datasets.cast_column('labels',ClassLabel(names=unique_labels))\n",
    "raw_datasets['train'][0]"
   ]
  },
  {
   "cell_type": "code",
   "execution_count": 10,
   "metadata": {},
   "outputs": [
    {
     "name": "stderr",
     "output_type": "stream",
     "text": [
      "/Users/jianhongxu/Library/Python/3.9/lib/python/site-packages/transformers/tokenization_utils_base.py:1601: FutureWarning: `clean_up_tokenization_spaces` was not set. It will be set to `True` by default. This behavior will be depracted in transformers v4.45, and will be then set to `False` by default. For more details check this issue: https://github.com/huggingface/transformers/issues/31884\n",
      "  warnings.warn(\n"
     ]
    },
    {
     "data": {
      "text/plain": [
       "DatasetDict({\n",
       "    train: Dataset({\n",
       "        features: ['tweet', 'labels', 'input_ids', 'attention_mask'],\n",
       "        num_rows: 68306\n",
       "    })\n",
       "    test: Dataset({\n",
       "        features: ['tweet', 'labels', 'input_ids', 'attention_mask'],\n",
       "        num_rows: 17077\n",
       "    })\n",
       "})"
      ]
     },
     "execution_count": 10,
     "metadata": {},
     "output_type": "execute_result"
    }
   ],
   "source": [
    "# checkpoint = '/root/autodl-tmp/cache'\n",
    "checkpoint = 'roberta-base'\n",
    "tokenizer = RobertaTokenizer.from_pretrained(checkpoint)\n",
    "\n",
    "def tokenize_function(example):\n",
    "    return tokenizer(example['tweet'], truncation=True)\n",
    "\n",
    "tokenized_datasets = raw_datasets.map(tokenize_function, batched=True)\n",
    "data_collator = DataCollatorWithPadding(tokenizer=tokenizer)\n",
    "tokenized_datasets"
   ]
  },
  {
   "cell_type": "code",
   "execution_count": 11,
   "metadata": {},
   "outputs": [
    {
     "name": "stdout",
     "output_type": "stream",
     "text": [
      "marked as toread have you seen me by kate white httpurl\n",
      "[0, 18584, 25, 7, 12745, 33, 47, 450, 162, 30, 449, 877, 1104, 2054, 6423, 2]\n",
      "[1, 1, 1, 1, 1, 1, 1, 1, 1, 1, 1, 1, 1, 1, 1, 1]\n",
      "['<s>', 'marked', 'Ġas', 'Ġto', 'read', 'Ġhave', 'Ġyou', 'Ġseen', 'Ġme', 'Ġby', 'Ġk', 'ate', 'Ġwhite', 'Ġhttp', 'url', '</s>']\n"
     ]
    }
   ],
   "source": [
    "print(tokenized_datasets['train'][0]['tweet'])\n",
    "input_ids = tokenized_datasets['train'][0]['input_ids']\n",
    "print(input_ids)\n",
    "print(tokenized_datasets['train'][0]['attention_mask'])\n",
    "decode_token = tokenizer.convert_ids_to_tokens(input_ids)\n",
    "print(decode_token)"
   ]
  },
  {
   "cell_type": "code",
   "execution_count": 12,
   "metadata": {},
   "outputs": [
    {
     "data": {
      "text/plain": [
       "['labels', 'input_ids', 'attention_mask']"
      ]
     },
     "execution_count": 12,
     "metadata": {},
     "output_type": "execute_result"
    }
   ],
   "source": [
    "tokenized_datasets = tokenized_datasets.remove_columns(['tweet'])\n",
    "tokenized_datasets.set_format('torch')\n",
    "tokenized_datasets['train'].column_names"
   ]
  },
  {
   "cell_type": "code",
   "execution_count": 13,
   "metadata": {},
   "outputs": [],
   "source": [
    "\n",
    "test_dataloader = DataLoader(\n",
    "    tokenized_datasets['test'], batch_size=8, collate_fn=data_collator\n",
    ")"
   ]
  },
  {
   "cell_type": "code",
   "execution_count": 14,
   "metadata": {},
   "outputs": [
    {
     "name": "stderr",
     "output_type": "stream",
     "text": [
      "Some weights of RobertaModel were not initialized from the model checkpoint at roberta-base and are newly initialized: ['roberta.pooler.dense.bias', 'roberta.pooler.dense.weight']\n",
      "You should probably TRAIN this model on a down-stream task to be able to use it for predictions and inference.\n",
      "/Users/jianhongxu/Library/Python/3.9/lib/python/site-packages/torch/nn/modules/rnn.py:83: UserWarning: dropout option adds dropout after all but last recurrent layer, so non-zero dropout expects num_layers greater than 1, but got dropout=0.2 and num_layers=1\n",
      "  warnings.warn(\"dropout option adds dropout after all but last \"\n"
     ]
    },
    {
     "data": {
      "text/plain": [
       "device(type='cpu')"
      ]
     },
     "execution_count": 14,
     "metadata": {},
     "output_type": "execute_result"
    }
   ],
   "source": [
    "# Set up model, loss, and optimizer\n",
    "device = torch.device(\"cuda\" if torch.cuda.is_available() else \"cpu\")\n",
    "model = RobertaBilstmClassifier(num_classes=3, checkpoint=checkpoint, hidden_size=32)\n",
    "model = model.to(device)\n",
    "device\n",
    "# # Print model summary\n",
    "# def count_parameters(model):\n",
    "#         return sum(p.numel() for p in model.parameters() if p.requires_grad)\n",
    "    \n",
    "# print(\"Model Architecture:\")\n",
    "# print(model)\n",
    "# print(f\"\\nTrainable parameters: {count_parameters(model):,}\")"
   ]
  },
  {
   "cell_type": "code",
   "execution_count": 17,
   "metadata": {},
   "outputs": [
    {
     "name": "stdout",
     "output_type": "stream",
     "text": [
      "AdamW (\n",
      "Parameter Group 0\n",
      "    amsgrad: False\n",
      "    betas: (0.9, 0.999)\n",
      "    capturable: False\n",
      "    differentiable: False\n",
      "    eps: 1e-08\n",
      "    foreach: None\n",
      "    fused: None\n",
      "    lr: 1e-05\n",
      "    maximize: False\n",
      "    weight_decay: 0.01\n",
      ")\n"
     ]
    }
   ],
   "source": [
    "\n",
    "optimizer = torch.optim.AdamW(model.parameters(), lr=1e-5,weight_decay=0.01)\n",
    "print(optimizer)\n",
    "\n",
    "\n"
   ]
  },
  {
   "cell_type": "code",
   "execution_count": null,
   "metadata": {},
   "outputs": [],
   "source": [
    "from sklearn.model_selection import KFold\n",
    "bs =16\n",
    "K=5\n",
    "num_epochs = 2\n",
    "  \n",
    "criterion = nn.CrossEntropyLoss()\n",
    "kf = KFold(n_splits=K, shuffle=True, random_state=42)\n",
    "\n",
    "\n",
    "fold_train_losses = []\n",
    "fold_train_accuracies = []\n",
    "fold_val_losses = []\n",
    "fold_val_accuracies = []\n",
    "\n",
    "for fold, (train_index, val_index) in enumerate(kf.split(range(len(tokenized_datasets['train'])))):\n",
    "    print(f\"\\nFold {fold + 1}/{K}\")\n",
    "    train_dataset = tokenized_datasets['train'].select(train_index)\n",
    "    val_dataset = tokenized_datasets['train'].select(val_index)\n",
    "\n",
    "    train_dataloader = DataLoader(\n",
    "        train_dataset,shuffle=True, batch_size=bs, collate_fn=data_collator\n",
    "    )\n",
    "    eval_dataloader = DataLoader(\n",
    "        val_dataset, batch_size=bs, collate_fn=data_collator\n",
    "    )\n",
    "    \n",
    "    num_training_steps = num_epochs * len(train_dataloader)\n",
    "\n",
    "    lr_scheduler = get_scheduler(\n",
    "        \"linear\",\n",
    "        optimizer=optimizer,\n",
    "        num_warmup_steps=0,\n",
    "        num_training_steps=num_training_steps\n",
    "    ) \n",
    "    # print(f\"number training  steps:{num_training_steps}\")\n",
    "\n",
    "    train_losses = []\n",
    "    train_accuracies = []\n",
    "    val_losses = []\n",
    "    val_accuracies = []\n",
    "    \n",
    "    for epoch in range(num_epochs):\n",
    "        progress_bar = tqdm(range(len(train_dataloader)), desc=f\"[epoch{epoch+1}/epochs{num_epochs}]\")\n",
    "        model.train()\n",
    "        train_total_loss = 0\n",
    "        train_correct = 0\n",
    "        train_total = 0\n",
    "        for batch in train_dataloader:\n",
    "            batch = {k: v.to(device) for k, v in batch.items()}\n",
    "            outputs = model(batch['input_ids'], batch['attention_mask'])\n",
    "            loss = criterion(outputs, batch['labels'])\n",
    "\n",
    "            \n",
    "            loss.backward()\n",
    "            optimizer.step()\n",
    "            lr_scheduler.step()\n",
    "            optimizer.zero_grad()\n",
    "     \n",
    "\n",
    "            train_total_loss +=loss.item()\n",
    "\n",
    "            _, preds = outputs.max(1)\n",
    "            train_correct += torch.sum(preds == batch[\"labels\"]).cpu()\n",
    "\n",
    "            train_total +=batch[\"labels\"].size(0)\n",
    "            progress_bar.set_postfix({'train_loss': f'{loss.item():.4f}', 'train_accuracy': f'{train_correct/train_total:.4f}'})\n",
    "            progress_bar.update(1)\n",
    "    \n",
    "        train_avg_loss = train_total_loss / len(train_dataloader)\n",
    "        train_avg_accuracy = train_correct / train_total\n",
    "        train_losses.append(train_avg_loss)\n",
    "        train_accuracies.append(train_avg_accuracy)\n",
    "\n",
    "\n",
    "        model.eval()\n",
    "        eval_total_loss = 0\n",
    "        eval_correct_predictions = 0\n",
    "        eval_total = 0\n",
    "\n",
    "        with torch.no_grad():\n",
    "            for batch in eval_dataloader:\n",
    "                batch = {k: v.to(device) for k, v in batch.items()}\n",
    "                outputs = model(batch['input_ids'], batch['attention_mask'])\n",
    "                loss = criterion(outputs,batch['labels'])\n",
    "\n",
    "                eval_total_loss += loss.item()\n",
    "                _, preds = outputs.max(1)\n",
    "                eval_correct_predictions += torch.sum(preds == batch[\"labels\"]).cpu()\n",
    "                eval_total +=batch[\"labels\"].size(0)\n",
    "\n",
    "        eval_avg_loss = eval_total_loss / len(eval_dataloader)\n",
    "        eval_avg_accuracy = eval_correct_predictions / eval_total\n",
    "        val_losses.append(eval_avg_loss)\n",
    "        val_accuracies.append(eval_avg_accuracy)\n",
    "        progress_bar.set_postfix({'train_loss': f'{train_avg_loss:.4f}', 'training_accuracy': f'{train_avg_accuracy:.4f}',\n",
    "                              'Val_loss': f'{eval_avg_loss:.4f}', 'Val_accuracy': f'{eval_avg_accuracy:.4f}'})\n",
    "    fold_train_losses.append(train_losses)\n",
    "    fold_train_accuracies.append(train_accuracies)\n",
    "    fold_val_losses.append(val_losses)\n",
    "    fold_val_accuracies.append(val_accuracies)\n",
    "avg_val_accuracy = np.mean([val_accuracies[-1] for val_accuracies in fold_val_accuracies])\n",
    "print(f\"\\nAverage Validation Accuracy across 5 folds: {avg_val_accuracy:.4f}\")\n"
   ]
  },
  {
   "cell_type": "code",
   "execution_count": null,
   "metadata": {},
   "outputs": [],
   "source": [
    "import numpy as np\n",
    "import matplotlib.pyplot as plt\n",
    "\n",
    "# Convert lists to NumPy arrays\n",
    "fold_train_losses = np.array(fold_train_losses)\n",
    "fold_train_accuracies = np.array(fold_train_accuracies)\n",
    "fold_val_losses = np.array(fold_val_losses)\n",
    "fold_val_accuracies = np.array(fold_val_accuracies)\n",
    "\n",
    "# Compute means and standard deviations\n",
    "mean_train_losses = np.mean(fold_train_losses, axis=0)\n",
    "std_train_losses = np.std(fold_train_losses, axis=0)\n",
    "mean_train_accuracies = np.mean(fold_train_accuracies, axis=0)\n",
    "std_train_accuracies = np.std(fold_train_accuracies, axis=0)\n",
    "mean_val_losses = np.mean(fold_val_losses, axis=0)\n",
    "std_val_losses = np.std(fold_val_losses, axis=0)\n",
    "mean_val_accuracies = np.mean(fold_val_accuracies, axis=0)\n",
    "std_val_accuracies = np.std(fold_val_accuracies, axis=0)\n",
    "\n",
    "# Plotting\n",
    "epochs = np.arange(1, num_epochs + 1)\n",
    "\n",
    "plt.figure(figsize=(14, 6))\n",
    "\n",
    "# Loss Plot\n",
    "plt.subplot(1, 2, 1)\n",
    "plt.plot(epochs, mean_train_losses, label='Train Loss', color='blue')\n",
    "plt.fill_between(epochs, mean_train_losses - std_train_losses, mean_train_losses + std_train_losses, color='blue', alpha=0.2)\n",
    "plt.plot(epochs, mean_val_losses, label='Validation Loss', color='orange')\n",
    "plt.fill_between(epochs, mean_val_losses - std_val_losses, mean_val_losses + std_val_losses, color='orange', alpha=0.2)\n",
    "plt.title('Loss per Epoch')\n",
    "plt.xlabel('Epoch')\n",
    "plt.ylabel('Loss')\n",
    "plt.legend()\n",
    "\n",
    "# Accuracy Plot\n",
    "plt.subplot(1, 2, 2)\n",
    "plt.plot(epochs, mean_train_accuracies, label='Train Accuracy', color='blue')\n",
    "plt.fill_between(epochs, mean_train_accuracies - std_train_accuracies, mean_train_accuracies + std_train_accuracies, color='blue', alpha=0.2)\n",
    "plt.plot(epochs, mean_val_accuracies, label='Validation Accuracy', color='orange')\n",
    "plt.fill_between(epochs, mean_val_accuracies - std_val_accuracies, mean_val_accuracies + std_val_accuracies, color='orange', alpha=0.2)\n",
    "plt.title('Accuracy per Epoch')\n",
    "plt.xlabel('Epoch')\n",
    "plt.ylabel('Accuracy')\n",
    "plt.legend()\n",
    "\n",
    "plt.tight_layout()\n",
    "plt.show()\n"
   ]
  },
  {
   "cell_type": "code",
   "execution_count": null,
   "metadata": {},
   "outputs": [],
   "source": [
    "plt.figure(figsize=(14, 6))\n",
    "\n",
    "# Loss Plot\n",
    "plt.subplot(1, 2, 1)\n",
    "plt.plot(epochs, mean_train_losses, label='Train Loss', color='blue', marker='o')\n",
    "plt.fill_between(epochs, mean_train_losses - std_train_losses, mean_train_losses + std_train_losses, color='blue', alpha=0.1)\n",
    "plt.plot(epochs, mean_val_losses, label='Validation Loss', color='orange', marker='s')\n",
    "plt.fill_between(epochs, mean_val_losses - std_val_losses, mean_val_losses + std_val_losses, color='orange', alpha=0.1)\n",
    "plt.title('Training and Validation Loss over Epochs')\n",
    "plt.xlabel('Epoch')\n",
    "plt.ylabel('Loss')\n",
    "plt.legend()\n",
    "plt.grid(True)\n",
    "\n",
    "# Accuracy Plot\n",
    "plt.subplot(1, 2, 2)\n",
    "plt.plot(epochs, mean_train_accuracies, label='Train Accuracy', color='blue', marker='o')\n",
    "plt.fill_between(epochs, mean_train_accuracies - std_train_accuracies, mean_train_accuracies + std_train_accuracies, color='blue', alpha=0.1)\n",
    "plt.plot(epochs, mean_val_accuracies, label='Validation Accuracy', color='orange', marker='s')\n",
    "plt.fill_between(epochs, mean_val_accuracies - std_val_accuracies, mean_val_accuracies + std_val_accuracies, color='orange', alpha=0.1)\n",
    "plt.title('Training and Validation Accuracy over Epochs')\n",
    "plt.xlabel('Epoch')\n",
    "plt.ylabel('Accuracy')\n",
    "plt.legend()\n",
    "plt.grid(True)\n",
    "\n",
    "plt.tight_layout()\n",
    "plt.show()\n"
   ]
  },
  {
   "cell_type": "code",
   "execution_count": null,
   "metadata": {},
   "outputs": [],
   "source": [
    "# Loss Plot with Individual Folds\n",
    "plt.figure(figsize=(14, 6))\n",
    "\n",
    "plt.subplot(1, 2, 1)\n",
    "for i in range(5):\n",
    "    plt.plot(epochs, fold_train_losses[i], color='lightblue', linestyle='--', alpha=0.5)\n",
    "    plt.plot(epochs, fold_val_losses[i], color='lightcoral', linestyle='--', alpha=0.5)\n",
    "plt.plot(epochs, mean_train_losses, label='Average Train Loss', color='blue', linewidth=2)\n",
    "plt.plot(epochs, mean_val_losses, label='Average Val Loss', color='red', linewidth=2)\n",
    "plt.title('Loss per Epoch with Individual Folds')\n",
    "plt.xlabel('Epoch')\n",
    "plt.ylabel('Loss')\n",
    "plt.legend()\n",
    "plt.grid(True)\n",
    "\n",
    "# Accuracy Plot with Individual Folds\n",
    "plt.subplot(1, 2, 2)\n",
    "for i in range(5):\n",
    "    plt.plot(epochs, fold_train_accuracies[i], color='lightblue', linestyle='--', alpha=0.5)\n",
    "    plt.plot(epochs, fold_val_accuracies[i], color='lightcoral', linestyle='--', alpha=0.5)\n",
    "plt.plot(epochs, mean_train_accuracies, label='Average Train Accuracy', color='blue', linewidth=2)\n",
    "plt.plot(epochs, mean_val_accuracies, label='Average Val Accuracy', color='red', linewidth=2)\n",
    "plt.title('Accuracy per Epoch with Individual Folds')\n",
    "plt.xlabel('Epoch')\n",
    "plt.ylabel('Accuracy')\n",
    "plt.legend()\n",
    "plt.grid(True)\n",
    "\n",
    "plt.tight_layout()\n",
    "plt.show()\n"
   ]
  },
  {
   "cell_type": "code",
   "execution_count": null,
   "metadata": {},
   "outputs": [
    {
     "data": {
      "image/png": "[encoded data removed]",
      "text/plain": [
       "<Figure size 640x480 with 1 Axes>"
      ]
     },
     "metadata": {},
     "output_type": "display_data"
    },
    {
     "name": "stdout",
     "output_type": "stream",
     "text": [
      "              precision    recall  f1-score   support\n",
      "\n",
      "     BIPOLAR       0.99      0.99      0.99       565\n",
      "  DEPRESSION       0.99      0.98      0.99       589\n",
      "        ADHD       0.99      0.99      0.99       579\n",
      "\n",
      "    accuracy                           0.99      1733\n",
      "   macro avg       0.99      0.99      0.99      1733\n",
      "weighted avg       0.99      0.99      0.99      1733\n",
      "\n"
     ]
    }
   ],
   "source": [
    "# Evaluation\n",
    "# metric = evaluate.load(\"accuracy\")\n",
    "model.eval()\n",
    "\n",
    "all_predictions = []\n",
    "all_labels = []\n",
    "\n",
    "for batch in test_dataloader:\n",
    "    batch = {k: v.to(device) for k,v in batch.items()}\n",
    "    with torch.no_grad():\n",
    "        outputs = model(batch['input_ids'],batch['attention_mask'])\n",
    "    \n",
    "    _, predictions = outputs.max(1)\n",
    "\n",
    "    all_predictions.extend(predictions.cpu().numpy())\n",
    "    all_labels.extend(batch[\"labels\"].cpu().numpy())\n",
    "\n",
    "    # metric.add_batch(predictions=predictions, References=batch[\"labels\"])\n",
    "\n",
    "# results = metric.compute()\n",
    "# print(\"Evaluation Results:\", results)\n",
    "\n",
    "conf_matrix = confusion_matrix(all_labels, all_predictions)\n",
    "# labels=[\"ADHD\", \"BIPO\", \"DEP\"]\n",
    "fig, ax = plt.subplots()\n",
    "sns.heatmap(conf_matrix, annot=True, cmap=\"Blues\", fmt='g', cbar=False)\n",
    "ax.xaxis.set_ticklabels(unique_labels)\n",
    "ax.yaxis.set_ticklabels(unique_labels)\n",
    "plt.xlabel('Predicted')\n",
    "plt.ylabel('Actual')\n",
    "plt.title('Roberta+BiLSTM Analysis Confusion Matrix')\n",
    "plt.show()\n",
    "\n",
    "print(classification_report(all_labels, all_predictions, target_names=unique_labels))"
   ]
  }
 ],
 "metadata": {
  "kernelspec": {
   "display_name": "Python 3",
   "language": "python",
   "name": "python3"
  },
  "language_info": {
   "codemirror_mode": {
    "name": "ipython",
    "version": 3
   },
   "file_extension": ".py",
   "mimetype": "text/x-python",
   "name": "python",
   "nbconvert_exporter": "python",
   "pygments_lexer": "ipython3",
   "version": "3.9.6"
  }
 },
 "nbformat": 4,
 "nbformat_minor": 2
}
