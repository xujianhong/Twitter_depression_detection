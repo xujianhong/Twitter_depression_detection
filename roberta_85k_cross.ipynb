{
 "cells": [
  {
   "cell_type": "code",
   "execution_count": 54,
   "metadata": {},
   "outputs": [],
   "source": [
    "from transformers import RobertaForSequenceClassification, RobertaTokenizer,DataCollatorWithPadding\n",
    "from transformers import AdamW, get_scheduler\n",
    "from datasets import load_dataset\n",
    "import torch\n",
    "from torch.utils.data import DataLoader\n",
    "from sklearn.metrics import classification_report, confusion_matrix\n",
    "import seaborn as sns\n",
    "import matplotlib.pyplot as plt\n",
    "from tqdm.notebook import tqdm\n",
    "\n",
    "import numpy as np\n",
    "\n",
    "# import evaluate\n"
   ]
  },
  {
   "cell_type": "code",
   "execution_count": 20,
   "metadata": {},
   "outputs": [
    {
     "data": {
      "text/plain": [
       "DatasetDict({\n",
       "    train: Dataset({\n",
       "        features: ['tweet', 'class'],\n",
       "        num_rows: 68306\n",
       "    })\n",
       "    test: Dataset({\n",
       "        features: ['tweet', 'class'],\n",
       "        num_rows: 17077\n",
       "    })\n",
       "})"
      ]
     },
     "execution_count": 20,
     "metadata": {},
     "output_type": "execute_result"
    }
   ],
   "source": [
    "# Load dataset\n",
    "data_files = {\"train\": \"/Users/jianhongxu/python_project/twitter_dataset/data/train_dataset_85k.csv\",\n",
    "               \"test\": \"/Users/jianhongxu/python_project/twitter_dataset/data/test_dataset_85k.csv\"}\n",
    "raw_datasets = load_dataset(\"csv\",data_files=data_files)\n",
    "raw_datasets"
   ]
  },
  {
   "cell_type": "code",
   "execution_count": 21,
   "metadata": {},
   "outputs": [
    {
     "data": {
      "text/plain": [
       "{'tweet': 'marked as toread have you seen me by kate white httpurl',\n",
       " 'class': 'ADHD'}"
      ]
     },
     "execution_count": 21,
     "metadata": {},
     "output_type": "execute_result"
    }
   ],
   "source": [
    "raw_datasets['train'][0]"
   ]
  },
  {
   "cell_type": "markdown",
   "metadata": {},
   "source": [
    "# convert string class to numerical labels"
   ]
  },
  {
   "cell_type": "code",
   "execution_count": 22,
   "metadata": {},
   "outputs": [
    {
     "data": {
      "text/plain": [
       "['ADHD', 'BIPOLAR', 'DEPRESSION']"
      ]
     },
     "execution_count": 22,
     "metadata": {},
     "output_type": "execute_result"
    }
   ],
   "source": [
    "unique_labels = list(set(raw_datasets['train']['class']))\n",
    "unique_labels"
   ]
  },
  {
   "cell_type": "code",
   "execution_count": 23,
   "metadata": {},
   "outputs": [
    {
     "data": {
      "text/plain": [
       "{'tweet': 'marked as toread have you seen me by kate white httpurl',\n",
       " 'labels': 0}"
      ]
     },
     "execution_count": 23,
     "metadata": {},
     "output_type": "execute_result"
    }
   ],
   "source": [
    "from datasets import ClassLabel\n",
    "raw_datasets = raw_datasets.rename_column(\"class\",\"labels\")\n",
    "raw_datasets = raw_datasets.cast_column('labels',ClassLabel(names=unique_labels))\n",
    "raw_datasets['train'][0]"
   ]
  },
  {
   "cell_type": "code",
   "execution_count": 24,
   "metadata": {},
   "outputs": [
    {
     "data": {
      "text/plain": [
       "{'tweet': Value(dtype='string', id=None),\n",
       " 'labels': ClassLabel(names=['ADHD', 'BIPOLAR', 'DEPRESSION'], id=None)}"
      ]
     },
     "execution_count": 24,
     "metadata": {},
     "output_type": "execute_result"
    }
   ],
   "source": [
    "raw_datasets['train'].features"
   ]
  },
  {
   "cell_type": "code",
   "execution_count": 25,
   "metadata": {},
   "outputs": [
    {
     "name": "stderr",
     "output_type": "stream",
     "text": [
      "/Users/jianhongxu/Library/Python/3.9/lib/python/site-packages/transformers/tokenization_utils_base.py:1601: FutureWarning: `clean_up_tokenization_spaces` was not set. It will be set to `True` by default. This behavior will be depracted in transformers v4.45, and will be then set to `False` by default. For more details check this issue: https://github.com/huggingface/transformers/issues/31884\n",
      "  warnings.warn(\n"
     ]
    },
    {
     "data": {
      "application/vnd.jupyter.widget-view+json": {
       "model_id": "752e111fd3b54bdfac392a8f92f1d955",
       "version_major": 2,
       "version_minor": 0
      },
      "text/plain": [
       "Map:   0%|          | 0/68306 [00:00<?, ? examples/s]"
      ]
     },
     "metadata": {},
     "output_type": "display_data"
    },
    {
     "data": {
      "text/plain": [
       "DatasetDict({\n",
       "    train: Dataset({\n",
       "        features: ['tweet', 'labels', 'input_ids', 'attention_mask'],\n",
       "        num_rows: 68306\n",
       "    })\n",
       "    test: Dataset({\n",
       "        features: ['tweet', 'labels', 'input_ids', 'attention_mask'],\n",
       "        num_rows: 17077\n",
       "    })\n",
       "})"
      ]
     },
     "execution_count": 25,
     "metadata": {},
     "output_type": "execute_result"
    }
   ],
   "source": [
    "# checkpoint = '/root/autodl-tmp/cache'\n",
    "checkpoint = 'roberta-base'\n",
    "tokenizer = RobertaTokenizer.from_pretrained(checkpoint)\n",
    "\n",
    "def tokenize_function(example):\n",
    "    return tokenizer(example['tweet'], truncation=True)\n",
    "\n",
    "tokenized_datasets = raw_datasets.map(tokenize_function, batched=True)\n",
    "data_collator = DataCollatorWithPadding(tokenizer=tokenizer)\n",
    "tokenized_datasets"
   ]
  },
  {
   "cell_type": "markdown",
   "metadata": {},
   "source": [
    "## There is an example for Roberta tokenizer"
   ]
  },
  {
   "cell_type": "code",
   "execution_count": 9,
   "metadata": {},
   "outputs": [
    {
     "name": "stdout",
     "output_type": "stream",
     "text": [
      "text:  how are you\n",
      "input ids : [0, 9178, 32, 47, 2]\n",
      "attention_mask : [1, 1, 1, 1, 1]\n",
      "convert ids to token:  ['<s>', 'how', 'Ġare', 'Ġyou', '</s>']\n",
      "cleaned tokens: ['<s>', 'how', 'are', 'you', '</s>']\n"
     ]
    }
   ],
   "source": [
    "text = \"how are you\"\n",
    "print(\"text: \", text)\n",
    "tokenized_text = tokenizer(text, truncation=True)\n",
    "print(\"input ids :\", tokenized_text['input_ids'])\n",
    "print('attention_mask :',tokenized_text['attention_mask'] )\n",
    "tokens_text = tokenizer.convert_ids_to_tokens(tokenized_text['input_ids'])\n",
    "print(\"convert ids to token: \", tokens_text)\n",
    "clean_tokens = [token.lstrip('Ġ') for token in tokens_text]\n",
    "print(\"cleaned tokens:\",clean_tokens)"
   ]
  },
  {
   "cell_type": "markdown",
   "metadata": {},
   "source": [
    "- Some words have Ġ prefix becasuse they are preceded by a space in the input.\n",
    "- These are special tokens indicating the start (< s >) and end (< /s >) of a sentence. They are added by default with add_special_tokens=True. (they are 0 and 2 in input_ids)\n"
   ]
  },
  {
   "cell_type": "markdown",
   "metadata": {},
   "source": [
    "## this is an example from datasets"
   ]
  },
  {
   "cell_type": "code",
   "execution_count": 26,
   "metadata": {},
   "outputs": [
    {
     "name": "stdout",
     "output_type": "stream",
     "text": [
      "marked as toread have you seen me by kate white httpurl\n",
      "[0, 18584, 25, 7, 12745, 33, 47, 450, 162, 30, 449, 877, 1104, 2054, 6423, 2]\n",
      "[1, 1, 1, 1, 1, 1, 1, 1, 1, 1, 1, 1, 1, 1, 1, 1]\n",
      "['<s>', 'marked', 'Ġas', 'Ġto', 'read', 'Ġhave', 'Ġyou', 'Ġseen', 'Ġme', 'Ġby', 'Ġk', 'ate', 'Ġwhite', 'Ġhttp', 'url', '</s>']\n"
     ]
    }
   ],
   "source": [
    "print(tokenized_datasets['train'][0]['tweet'])\n",
    "input_ids = tokenized_datasets['train'][0]['input_ids']\n",
    "print(input_ids)\n",
    "print(tokenized_datasets['train'][0]['attention_mask'])\n",
    "decode_token = tokenizer.convert_ids_to_tokens(input_ids)\n",
    "print(decode_token)"
   ]
  },
  {
   "cell_type": "code",
   "execution_count": 27,
   "metadata": {},
   "outputs": [
    {
     "data": {
      "text/plain": [
       "['labels', 'input_ids', 'attention_mask']"
      ]
     },
     "execution_count": 27,
     "metadata": {},
     "output_type": "execute_result"
    }
   ],
   "source": [
    "tokenized_datasets = tokenized_datasets.remove_columns(['tweet'])\n",
    "tokenized_datasets.set_format('torch')\n",
    "tokenized_datasets['train'].column_names"
   ]
  },
  {
   "cell_type": "code",
   "execution_count": 42,
   "metadata": {},
   "outputs": [],
   "source": [
    "\n",
    "test_dataloader = DataLoader(\n",
    "    tokenized_datasets['test'], batch_size=8, collate_fn=data_collator\n",
    ")"
   ]
  },
  {
   "cell_type": "code",
   "execution_count": null,
   "metadata": {},
   "outputs": [
    {
     "data": {
      "text/plain": [
       "{'labels': torch.Size([8]),\n",
       " 'input_ids': torch.Size([8, 52]),\n",
       " 'attention_mask': torch.Size([8, 52])}"
      ]
     },
     "execution_count": 16,
     "metadata": {},
     "output_type": "execute_result"
    }
   ],
   "source": [
    "# for batch in train_dataloader:\n",
    "#     break\n",
    "# {k:v.shape for k, v in batch.items()}"
   ]
  },
  {
   "cell_type": "code",
   "execution_count": 17,
   "metadata": {},
   "outputs": [
    {
     "name": "stderr",
     "output_type": "stream",
     "text": [
      "Some weights of RobertaForSequenceClassification were not initialized from the model checkpoint at roberta-base and are newly initialized: ['classifier.dense.bias', 'classifier.dense.weight', 'classifier.out_proj.bias', 'classifier.out_proj.weight']\n",
      "You should probably TRAIN this model on a down-stream task to be able to use it for predictions and inference.\n"
     ]
    }
   ],
   "source": [
    "model = RobertaForSequenceClassification.from_pretrained(checkpoint, num_labels=3)"
   ]
  },
  {
   "cell_type": "code",
   "execution_count": null,
   "metadata": {},
   "outputs": [
    {
     "name": "stdout",
     "output_type": "stream",
     "text": [
      "tensor(1.1218, grad_fn=<NllLossBackward0>) torch.Size([8, 3])\n"
     ]
    }
   ],
   "source": [
    "# ouput = model(**batch)\n",
    "# print(ouput.loss, ouput.logits.shape)"
   ]
  },
  {
   "cell_type": "code",
   "execution_count": 44,
   "metadata": {},
   "outputs": [
    {
     "name": "stdout",
     "output_type": "stream",
     "text": [
      "AdamW (\n",
      "Parameter Group 0\n",
      "    betas: (0.9, 0.999)\n",
      "    correct_bias: True\n",
      "    eps: 1e-06\n",
      "    lr: 1e-05\n",
      "    weight_decay: 0.01\n",
      ")\n"
     ]
    },
    {
     "name": "stderr",
     "output_type": "stream",
     "text": [
      "/Users/jianhongxu/Library/Python/3.9/lib/python/site-packages/transformers/optimization.py:591: FutureWarning: This implementation of AdamW is deprecated and will be removed in a future version. Use the PyTorch implementation torch.optim.AdamW instead, or set `no_deprecation_warning=True` to disable this warning\n",
      "  warnings.warn(\n"
     ]
    }
   ],
   "source": [
    "optimizer = AdamW(model.parameters(), lr=1e-5,weight_decay=0.01)\n",
    "print(optimizer)"
   ]
  },
  {
   "cell_type": "code",
   "execution_count": 48,
   "metadata": {},
   "outputs": [
    {
     "data": {
      "text/plain": [
       "device(type='cpu')"
      ]
     },
     "execution_count": 48,
     "metadata": {},
     "output_type": "execute_result"
    }
   ],
   "source": [
    "device = torch.device(\"cuda\" if torch.cuda.is_available() else \"cpu\")\n",
    "model = model.to(device)\n",
    "device"
   ]
  },
  {
   "cell_type": "code",
   "execution_count": null,
   "metadata": {},
   "outputs": [
    {
     "name": "stdout",
     "output_type": "stream",
     "text": [
      "\n",
      "Fold 1/5\n",
      "number training  steps:13662\n"
     ]
    },
    {
     "data": {
      "application/vnd.jupyter.widget-view+json": {
       "model_id": "8dc8294d26ea4ff69720ceb7220324b1",
       "version_major": 2,
       "version_minor": 0
      },
      "text/plain": [
       "[epoch1/epochs2]:   0%|          | 0/6831 [00:00<?, ?it/s]"
      ]
     },
     "metadata": {},
     "output_type": "display_data"
    },
    {
     "ename": "KeyboardInterrupt",
     "evalue": "",
     "output_type": "error",
     "traceback": [
      "\u001b[0;31m---------------------------------------------------------------------------\u001b[0m",
      "\u001b[0;31mKeyboardInterrupt\u001b[0m                         Traceback (most recent call last)",
      "Cell \u001b[0;32mIn[53], line 51\u001b[0m\n\u001b[1;32m     48\u001b[0m logits \u001b[38;5;241m=\u001b[39m outputs\u001b[38;5;241m.\u001b[39mlogits\n\u001b[1;32m     50\u001b[0m loss\u001b[38;5;241m.\u001b[39mbackward()\n\u001b[0;32m---> 51\u001b[0m \u001b[43moptimizer\u001b[49m\u001b[38;5;241;43m.\u001b[39;49m\u001b[43mstep\u001b[49m\u001b[43m(\u001b[49m\u001b[43m)\u001b[49m\n\u001b[1;32m     52\u001b[0m lr_scheduler\u001b[38;5;241m.\u001b[39mstep()\n\u001b[1;32m     53\u001b[0m optimizer\u001b[38;5;241m.\u001b[39mzero_grad()\n",
      "File \u001b[0;32m~/Library/Python/3.9/lib/python/site-packages/torch/optim/lr_scheduler.py:75\u001b[0m, in \u001b[0;36mLRScheduler.__init__.<locals>.with_counter.<locals>.wrapper\u001b[0;34m(*args, **kwargs)\u001b[0m\n\u001b[1;32m     73\u001b[0m instance\u001b[38;5;241m.\u001b[39m_step_count \u001b[38;5;241m+\u001b[39m\u001b[38;5;241m=\u001b[39m \u001b[38;5;241m1\u001b[39m\n\u001b[1;32m     74\u001b[0m wrapped \u001b[38;5;241m=\u001b[39m func\u001b[38;5;241m.\u001b[39m\u001b[38;5;21m__get__\u001b[39m(instance, \u001b[38;5;28mcls\u001b[39m)\n\u001b[0;32m---> 75\u001b[0m \u001b[38;5;28;01mreturn\u001b[39;00m \u001b[43mwrapped\u001b[49m\u001b[43m(\u001b[49m\u001b[38;5;241;43m*\u001b[39;49m\u001b[43margs\u001b[49m\u001b[43m,\u001b[49m\u001b[43m \u001b[49m\u001b[38;5;241;43m*\u001b[39;49m\u001b[38;5;241;43m*\u001b[39;49m\u001b[43mkwargs\u001b[49m\u001b[43m)\u001b[49m\n",
      "File \u001b[0;32m~/Library/Python/3.9/lib/python/site-packages/torch/optim/optimizer.py:385\u001b[0m, in \u001b[0;36mOptimizer.profile_hook_step.<locals>.wrapper\u001b[0;34m(*args, **kwargs)\u001b[0m\n\u001b[1;32m    380\u001b[0m         \u001b[38;5;28;01melse\u001b[39;00m:\n\u001b[1;32m    381\u001b[0m             \u001b[38;5;28;01mraise\u001b[39;00m \u001b[38;5;167;01mRuntimeError\u001b[39;00m(\n\u001b[1;32m    382\u001b[0m                 \u001b[38;5;124mf\u001b[39m\u001b[38;5;124m\"\u001b[39m\u001b[38;5;132;01m{\u001b[39;00mfunc\u001b[38;5;132;01m}\u001b[39;00m\u001b[38;5;124m must return None or a tuple of (new_args, new_kwargs), but got \u001b[39m\u001b[38;5;132;01m{\u001b[39;00mresult\u001b[38;5;132;01m}\u001b[39;00m\u001b[38;5;124m.\u001b[39m\u001b[38;5;124m\"\u001b[39m\n\u001b[1;32m    383\u001b[0m             )\n\u001b[0;32m--> 385\u001b[0m out \u001b[38;5;241m=\u001b[39m \u001b[43mfunc\u001b[49m\u001b[43m(\u001b[49m\u001b[38;5;241;43m*\u001b[39;49m\u001b[43margs\u001b[49m\u001b[43m,\u001b[49m\u001b[43m \u001b[49m\u001b[38;5;241;43m*\u001b[39;49m\u001b[38;5;241;43m*\u001b[39;49m\u001b[43mkwargs\u001b[49m\u001b[43m)\u001b[49m\n\u001b[1;32m    386\u001b[0m \u001b[38;5;28mself\u001b[39m\u001b[38;5;241m.\u001b[39m_optimizer_step_code()\n\u001b[1;32m    388\u001b[0m \u001b[38;5;66;03m# call optimizer step post hooks\u001b[39;00m\n",
      "File \u001b[0;32m~/Library/Python/3.9/lib/python/site-packages/torch/utils/_contextlib.py:115\u001b[0m, in \u001b[0;36mcontext_decorator.<locals>.decorate_context\u001b[0;34m(*args, **kwargs)\u001b[0m\n\u001b[1;32m    112\u001b[0m \u001b[38;5;129m@functools\u001b[39m\u001b[38;5;241m.\u001b[39mwraps(func)\n\u001b[1;32m    113\u001b[0m \u001b[38;5;28;01mdef\u001b[39;00m \u001b[38;5;21mdecorate_context\u001b[39m(\u001b[38;5;241m*\u001b[39margs, \u001b[38;5;241m*\u001b[39m\u001b[38;5;241m*\u001b[39mkwargs):\n\u001b[1;32m    114\u001b[0m     \u001b[38;5;28;01mwith\u001b[39;00m ctx_factory():\n\u001b[0;32m--> 115\u001b[0m         \u001b[38;5;28;01mreturn\u001b[39;00m \u001b[43mfunc\u001b[49m\u001b[43m(\u001b[49m\u001b[38;5;241;43m*\u001b[39;49m\u001b[43margs\u001b[49m\u001b[43m,\u001b[49m\u001b[43m \u001b[49m\u001b[38;5;241;43m*\u001b[39;49m\u001b[38;5;241;43m*\u001b[39;49m\u001b[43mkwargs\u001b[49m\u001b[43m)\u001b[49m\n",
      "File \u001b[0;32m~/Library/Python/3.9/lib/python/site-packages/transformers/optimization.py:648\u001b[0m, in \u001b[0;36mAdamW.step\u001b[0;34m(self, closure)\u001b[0m\n\u001b[1;32m    646\u001b[0m exp_avg\u001b[38;5;241m.\u001b[39mmul_(beta1)\u001b[38;5;241m.\u001b[39madd_(grad, alpha\u001b[38;5;241m=\u001b[39m(\u001b[38;5;241m1.0\u001b[39m \u001b[38;5;241m-\u001b[39m beta1))\n\u001b[1;32m    647\u001b[0m exp_avg_sq\u001b[38;5;241m.\u001b[39mmul_(beta2)\u001b[38;5;241m.\u001b[39maddcmul_(grad, grad, value\u001b[38;5;241m=\u001b[39m\u001b[38;5;241m1.0\u001b[39m \u001b[38;5;241m-\u001b[39m beta2)\n\u001b[0;32m--> 648\u001b[0m denom \u001b[38;5;241m=\u001b[39m \u001b[43mexp_avg_sq\u001b[49m\u001b[38;5;241;43m.\u001b[39;49m\u001b[43msqrt\u001b[49m\u001b[43m(\u001b[49m\u001b[43m)\u001b[49m\u001b[38;5;241m.\u001b[39madd_(group[\u001b[38;5;124m\"\u001b[39m\u001b[38;5;124meps\u001b[39m\u001b[38;5;124m\"\u001b[39m])\n\u001b[1;32m    650\u001b[0m step_size \u001b[38;5;241m=\u001b[39m group[\u001b[38;5;124m\"\u001b[39m\u001b[38;5;124mlr\u001b[39m\u001b[38;5;124m\"\u001b[39m]\n\u001b[1;32m    651\u001b[0m \u001b[38;5;28;01mif\u001b[39;00m group[\u001b[38;5;124m\"\u001b[39m\u001b[38;5;124mcorrect_bias\u001b[39m\u001b[38;5;124m\"\u001b[39m]:  \u001b[38;5;66;03m# No bias correction for Bert\u001b[39;00m\n",
      "\u001b[0;31mKeyboardInterrupt\u001b[0m: "
     ]
    }
   ],
   "source": [
    "from sklearn.model_selection import KFold\n",
    "\n",
    "kf = KFold(n_splits=5, shuffle=True, random_state=42)\n",
    "\n",
    "fold_train_losses = []\n",
    "fold_train_accuracies = []\n",
    "fold_val_losses = []\n",
    "fold_val_accuracies = []\n",
    "\n",
    "for fold, (train_index, val_index) in enumerate(kf.split(range(len(tokenized_datasets['train'])))):\n",
    "    print(f\"\\nFold {fold + 1}/5\")\n",
    "    train_dataset = tokenized_datasets['train'].select(train_index)\n",
    "    val_dataset = tokenized_datasets['train'].select(val_index)\n",
    "\n",
    "    train_dataloader = DataLoader(\n",
    "        train_dataset,shuffle=True, batch_size=8, collate_fn=data_collator\n",
    "    )\n",
    "    eval_dataloader = DataLoader(\n",
    "        val_dataset, batch_size=8, collate_fn=data_collator\n",
    "    )\n",
    "\n",
    "    num_epochs = 2\n",
    "\n",
    "    num_training_steps = num_epochs * len(train_dataloader)\n",
    "\n",
    "    lr_scheduler = get_scheduler(\n",
    "        \"linear\",\n",
    "        optimizer=optimizer,\n",
    "        num_warmup_steps=0,\n",
    "        num_training_steps=num_training_steps\n",
    "    )   \n",
    "    print(f\"number training  steps:{num_training_steps}\")\n",
    "\n",
    "    train_losses = []\n",
    "    train_accuracies = []\n",
    "    val_losses = []\n",
    "    val_accuracies = []\n",
    "    \n",
    "    for epoch in range(num_epochs):\n",
    "        progress_bar = tqdm(range(len(train_dataloader)), desc=f\"[epoch{epoch+1}/epochs{num_epochs}]\")\n",
    "        model.train()\n",
    "        train_total_loss = 0\n",
    "        train_correct = 0\n",
    "        train_total = 0\n",
    "        for batch in train_dataloader:\n",
    "            batch = {k: v.to(device) for k, v in batch.items()}\n",
    "            outputs = model(**batch)\n",
    "            loss = outputs.loss\n",
    "            logits = outputs.logits\n",
    "            \n",
    "            loss.backward()\n",
    "            optimizer.step()\n",
    "            lr_scheduler.step()\n",
    "            optimizer.zero_grad()\n",
    "     \n",
    "\n",
    "            train_total_loss +=loss.item()\n",
    "\n",
    "            preds = torch.argmax(logits, dim=-1)\n",
    "            train_correct += torch.sum(preds == batch[\"labels\"]).cpu()\n",
    "\n",
    "            train_total +=batch[\"labels\"].size(0)\n",
    "            progress_bar.set_postfix({'train_loss': f'{loss.item():.4f}', 'train_accuracy': f'{train_correct/train_total:.4f}'})\n",
    "            progress_bar.update(1)\n",
    "    \n",
    "        train_avg_loss = train_total_loss / len(train_dataloader)\n",
    "        train_avg_accuracy = train_correct / train_total\n",
    "        train_losses.append(train_avg_loss)\n",
    "        train_accuracies.append(train_avg_accuracy)\n",
    "\n",
    "\n",
    "        model.eval()\n",
    "        eval_total_loss = 0\n",
    "        eval_correct_predictions = 0\n",
    "        eval_total = 0\n",
    "\n",
    "        with torch.no_grad():\n",
    "            for batch in eval_dataloader:\n",
    "                batch = {k: v.to(device) for k, v in batch.items()}\n",
    "                outputs = model(**batch)\n",
    "                loss = outputs.loss\n",
    "                logits = outputs.logits\n",
    "\n",
    "                eval_total_loss += loss.item()\n",
    "                preds = torch.argmax(logits,dim=-1)\n",
    "                eval_correct_predictions += torch.sum(preds == batch[\"labels\"]).cpu()\n",
    "                eval_total +=batch[\"labels\"].size(0)\n",
    "\n",
    "        eval_avg_loss = eval_total_loss / len(eval_dataloader)\n",
    "        eval_avg_accuracy = eval_correct_predictions / eval_total\n",
    "        val_losses.append(eval_avg_loss)\n",
    "        val_accuracies.append(eval_avg_accuracy)\n",
    "        progress_bar.set_postfix({'train_loss': f'{train_avg_loss:.4f}', 'training_accuracy': f'{train_avg_accuracy:.4f}',\n",
    "                              'Val_loss': f'{eval_avg_loss:.4f}', 'Val_accuracy': f'{eval_avg_accuracy:.4f}'})\n",
    "    fold_train_losses.append(train_losses)\n",
    "    fold_train_accuracies.append(train_accuracies)\n",
    "    fold_val_losses.append(val_losses)\n",
    "    fold_val_accuracies.append(val_accuracies)\n",
    "avg_val_accuracy = np.mean([val_accuracies[-1] for val_accuracies in fold_val_accuracies])\n",
    "print(f\"\\nAverage Validation Accuracy across 5 folds: {avg_val_accuracy:.4f}\")"
   ]
  },
  {
   "cell_type": "code",
   "execution_count": null,
   "metadata": {},
   "outputs": [],
   "source": [
    "\n",
    "train_losses = []\n",
    "train_accuracies = []\n",
    "val_losses = []\n",
    "val_accuracies = []\n",
    "\n",
    "for epoch in range(num_epochs):\n",
    "    progress_bar = tqdm(range(len(train_dataloader)), desc=f\"[epoch{epoch+1}/epochs{num_epochs}]\")\n",
    "    model.train()\n",
    "    train_total_loss = 0\n",
    "    train_correct = 0\n",
    "    train_total = 0\n",
    "    \n",
    "    for batch in train_dataloader:\n",
    "        batch = {k: v.to(device) for k, v in batch.items()}\n",
    "        outputs = model(**batch)\n",
    "        loss = outputs.loss\n",
    "        logits = outputs.logits\n",
    "\n",
    "        loss.backward()\n",
    "        optimizer.step()\n",
    "        lr_scheduler.step()\n",
    "        optimizer.zero_grad()\n",
    "     \n",
    "\n",
    "        train_total_loss +=loss.item()\n",
    "\n",
    "        preds = torch.argmax(logits, dim=-1)\n",
    "        train_correct += torch.sum(preds == batch[\"labels\"]).cpu()\n",
    "\n",
    "        train_total +=batch[\"labels\"].size(0)\n",
    "        progress_bar.set_postfix({'train_loss': f'{loss.item():.4f}', 'train_accuracy': f'{train_correct/train_total:.4f}'})\n",
    "        progress_bar.update(1)\n",
    "    \n",
    "    train_avg_loss = train_total_loss / len(train_dataloader)\n",
    "    train_avg_accuracy = train_correct / train_total\n",
    "    train_losses.append(train_avg_loss)\n",
    "    train_accuracies.append(train_avg_accuracy)\n",
    "\n",
    "\n",
    "    model.eval()\n",
    "    eval_total_loss = 0\n",
    "    eval_correct_predictions = 0\n",
    "    eval_total = 0\n",
    "\n",
    "    with torch.no_grad():\n",
    "        for batch in eval_dataloader:\n",
    "            batch = {k: v.to(device) for k, v in batch.items()}\n",
    "            outputs = model(**batch)\n",
    "            loss = outputs.loss\n",
    "            logits = outputs.logits\n",
    "\n",
    "            eval_total_loss += loss.item()\n",
    "            preds = torch.argmax(logits,dim=-1)\n",
    "            eval_correct_predictions += torch.sum(preds == batch[\"labels\"]).cpu()\n",
    "            eval_total +=batch[\"labels\"].size(0)\n",
    "\n",
    "    eval_avg_loss = eval_total_loss / len(eval_dataloader)\n",
    "    eval_avg_accuracy = eval_correct_predictions / eval_total\n",
    "    val_losses.append(eval_avg_loss)\n",
    "    val_accuracies.append(eval_avg_accuracy)\n",
    "    progress_bar.set_postfix({'train_loss': f'{train_avg_loss:.4f}', 'training_accuracy': f'{train_avg_accuracy:.4f}',\n",
    "                              'Val_loss': f'{eval_avg_loss:.4f}', 'Val_accuracy': f'{eval_avg_accuracy:.4f}'})\n",
    "\n",
    "    \n"
   ]
  },
  {
   "cell_type": "code",
   "execution_count": null,
   "metadata": {},
   "outputs": [
    {
     "data": {
      "image/png": "[encoded data removed]",
      "text/plain": [
       "<Figure size 1200x500 with 2 Axes>"
      ]
     },
     "metadata": {},
     "output_type": "display_data"
    },
    {
     "name": "stderr",
     "output_type": "stream",
     "text": [
      "[Training]: 100%|██████████| 8670/8670 [06:50<00:00, 21.69it/s, Training loss=0.0002, Training accuracy=0.9999]"
     ]
    }
   ],
   "source": [
    "# Plotting training loss and accuracy\n",
    "plt.figure(figsize=(12, 5))\n",
    "\n",
    "# Loss plot\n",
    "plt.subplot(1, 2, 1)\n",
    "plt.plot(range(1,num_epochs +1), train_losses, label='Training Loss')\n",
    "plt.plot(range(1, num_epochs+1), val_losses, label ='Validation Loss')\n",
    "plt.xlabel('Epochs')\n",
    "plt.ylabel('Loss')\n",
    "plt.title('Training and Validation Loss over Epochs')\n",
    "plt.legend()\n",
    "\n",
    "# Accuracy plot\n",
    "plt.subplot(1, 2, 2)\n",
    "plt.plot(range(1, num_epochs + 1), train_accuracies, label='Training Accuracy')\n",
    "plt.plot(range(1, num_epochs + 1), val_accuracies, label='Validation Accuracy')\n",
    "plt.xlabel('Epochs')\n",
    "plt.ylabel('Accuracy')\n",
    "plt.title('Training and Validation Accuracy Over Epochs')\n",
    "plt.legend()\n",
    "\n",
    "plt.tight_layout()\n",
    "plt.show()"
   ]
  },
  {
   "cell_type": "code",
   "execution_count": 21,
   "metadata": {},
   "outputs": [
    {
     "data": {
      "image/png": "[encoded data removed]",
      "text/plain": [
       "<Figure size 640x480 with 1 Axes>"
      ]
     },
     "metadata": {},
     "output_type": "display_data"
    },
    {
     "name": "stdout",
     "output_type": "stream",
     "text": [
      "              precision    recall  f1-score   support\n",
      "\n",
      "     BIPOLAR       1.00      1.00      1.00       565\n",
      "        ADHD       1.00      0.99      0.99       579\n",
      "  DEPRESSION       0.99      0.99      0.99       589\n",
      "\n",
      "    accuracy                           0.99      1733\n",
      "   macro avg       0.99      0.99      0.99      1733\n",
      "weighted avg       0.99      0.99      0.99      1733\n",
      "\n"
     ]
    }
   ],
   "source": [
    "# Evaluation\n",
    "# metric = evaluate.load(\"accuracy\")\n",
    "model.eval()\n",
    "\n",
    "all_predictions = []\n",
    "all_labels = []\n",
    "\n",
    "for batch in eval_dataloader:\n",
    "    batch = {k: v.to(device) for k,v in batch.items()}\n",
    "    with torch.no_grad():\n",
    "        outputs = model(**batch)\n",
    "    \n",
    "    logits = outputs.logits\n",
    "    predictions = torch.argmax(logits, dim=-1)\n",
    "\n",
    "    all_predictions.extend(predictions.cpu().numpy())\n",
    "    all_labels.extend(batch[\"labels\"].cpu().numpy())\n",
    "\n",
    "    # metric.add_batch(predictions=predictions, References=batch[\"labels\"])\n",
    "\n",
    "# results = metric.compute()\n",
    "# print(\"Evaluation Results:\", results)\n",
    "\n",
    "conf_matrix = confusion_matrix(all_labels, all_predictions)\n",
    "# labels=[\"ADHD\", \"BIPO\", \"DEP\"]\n",
    "fig, ax = plt.subplots()\n",
    "sns.heatmap(conf_matrix, annot=True, cmap=\"Blues\", fmt='g', cbar=False)\n",
    "ax.xaxis.set_ticklabels(unique_labels)\n",
    "ax.yaxis.set_ticklabels(unique_labels)\n",
    "plt.xlabel('Predicted')\n",
    "plt.ylabel('Actual')\n",
    "plt.title('Roberta Analysis Confusion Matrix')\n",
    "plt.show()\n",
    "\n",
    "print(classification_report(all_labels, all_predictions, target_names=unique_labels))"
   ]
  }
 ],
 "metadata": {
  "kernelspec": {
   "display_name": "Python 3",
   "language": "python",
   "name": "python3"
  },
  "language_info": {
   "codemirror_mode": {
    "name": "ipython",
    "version": 3
   },
   "file_extension": ".py",
   "mimetype": "text/x-python",
   "name": "python",
   "nbconvert_exporter": "python",
   "pygments_lexer": "ipython3",
   "version": "3.9.6"
  }
 },
 "nbformat": 4,
 "nbformat_minor": 2
}
