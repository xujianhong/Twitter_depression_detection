{
 "cells": [
  {
   "cell_type": "code",
   "execution_count": 25,
   "metadata": {},
   "outputs": [],
   "source": [
    "from transformers import RobertaModel, RobertaTokenizer, DataCollatorWithPadding\n",
    "from transformers import get_scheduler\n",
    "import torch\n",
    "import torch.nn as nn\n",
    "from torch.utils.data import DataLoader\n",
    "import numpy as np\n",
    "import pandas as pd\n",
    "from datasets import load_dataset\n",
    "from sklearn.metrics import classification_report, confusion_matrix\n",
    "import seaborn as sns\n",
    "import matplotlib.pyplot as plt\n",
    "import tqdm\n"
   ]
  },
  {
   "cell_type": "code",
   "execution_count": null,
   "metadata": {},
   "outputs": [],
   "source": [
    "# checkpoint = '/root/autodl-tmp/cache'\n",
    "class RobertaBilstmClassifier(nn.Module):\n",
    "    def __init__(self,checkpoint='roberta-base', num_classes=3, hidden_size=32):\n",
    "        super(RobertaBilstmClassifier, self).__init__()\n",
    "        self.roberta = RobertaModel.from_pretrained(checkpoint)\n",
    "        \n",
    "        self.dropout = nn.Dropout(0.3)\n",
    "        self.lstm = nn.LSTM(input_size=self.roberta.config.hidden_size, \n",
    "                            hidden_size=hidden_size, \n",
    "                            bidirectional=True, \n",
    "                            batch_first=True,\n",
    "                            dropout=0.2,\n",
    "                            )\n",
    "        self.fc1 = nn.Linear(hidden_size * 2, 32) # Multiply by 2 for bidirectional LSTM\n",
    "        self.activation = nn.SiLU()  #Swish activation\n",
    "        self.fc2 = nn.Linear(32, num_classes)\n",
    "        self.softmax = nn.Softmax(dim=1)\n",
    "\n",
    "    def forward(self, input_ids, attention_mask):\n",
    "        roberta_output = self.roberta(\n",
    "            input_ids=input_ids,\n",
    "            attention_mask=attention_mask,\n",
    "        )\n",
    "        sequence_output = roberta_output.last_hidden_state  # Shape: (batch_size, seq_len, hidden_size)\n",
    "\n",
    "        # sequence_output = self.dropout(sequence_output) # first dropout\n",
    "\n",
    "        lstm_output, _ = self.lstm(sequence_output)\n",
    "        lstm_output = lstm_output[:, -1, :]\n",
    "\n",
    "        # lstm_output = self.dropout(lstm_output)# second dropout\n",
    "\n",
    "        fc1_output = self.fc1(lstm_output)\n",
    "\n",
    "        fc1_output = self.activation(fc1_output)\n",
    "\n",
    "        # fc1_output = self.dropout(fc1_output) # third dropout\n",
    "\n",
    "        fc2_output = self.fc2(fc1_output)\n",
    "\n",
    "        output = self.softmax(fc2_output)\n",
    "        return output\n"
   ]
  },
  {
   "cell_type": "code",
   "execution_count": 4,
   "metadata": {},
   "outputs": [
    {
     "data": {
      "text/plain": [
       "DatasetDict({\n",
       "    train: Dataset({\n",
       "        features: ['class', 'tweet'],\n",
       "        num_rows: 8664\n",
       "    })\n",
       "})"
      ]
     },
     "execution_count": 4,
     "metadata": {},
     "output_type": "execute_result"
    }
   ],
   "source": [
    "# Load dataset\n",
    "# df = pd.read_csv(\"/root/autodl-tmp/remotefolder/cleaned_tweet_80k.csv\")\n",
    "raw_datasets = load_dataset(\"csv\",data_files=\"/root/autodl-tmp/remotefolder/cleaned_tweet_9k.csv\")\n",
    "raw_datasets"
   ]
  },
  {
   "cell_type": "code",
   "execution_count": 5,
   "metadata": {},
   "outputs": [
    {
     "data": {
      "text/plain": [
       "['BIPOLAR', 'DEPRESSION', 'ADHD']"
      ]
     },
     "execution_count": 5,
     "metadata": {},
     "output_type": "execute_result"
    }
   ],
   "source": [
    "unique_labels = list(set(raw_datasets['train']['class']))\n",
    "unique_labels"
   ]
  },
  {
   "cell_type": "code",
   "execution_count": 6,
   "metadata": {},
   "outputs": [
    {
     "data": {
      "text/plain": [
       "{'labels': 2,\n",
       " 'tweet': 'people should always come before profits because ultimately its people who create the profits httpurl '}"
      ]
     },
     "execution_count": 6,
     "metadata": {},
     "output_type": "execute_result"
    }
   ],
   "source": [
    "from datasets import ClassLabel\n",
    "raw_datasets = raw_datasets.rename_column(\"class\",\"labels\")\n",
    "raw_datasets = raw_datasets.cast_column('labels',ClassLabel(names=unique_labels))\n",
    "raw_datasets['train'][0]"
   ]
  },
  {
   "cell_type": "code",
   "execution_count": 7,
   "metadata": {},
   "outputs": [
    {
     "data": {
      "text/plain": [
       "DatasetDict({\n",
       "    train: Dataset({\n",
       "        features: ['labels', 'tweet'],\n",
       "        num_rows: 6931\n",
       "    })\n",
       "    test: Dataset({\n",
       "        features: ['labels', 'tweet'],\n",
       "        num_rows: 1733\n",
       "    })\n",
       "})"
      ]
     },
     "execution_count": 7,
     "metadata": {},
     "output_type": "execute_result"
    }
   ],
   "source": [
    "splited_datasets = raw_datasets['train'].train_test_split(train_size=0.8,seed=42)\n",
    "splited_datasets"
   ]
  },
  {
   "cell_type": "code",
   "execution_count": 8,
   "metadata": {},
   "outputs": [
    {
     "data": {
      "text/plain": [
       "DatasetDict({\n",
       "    train: Dataset({\n",
       "        features: ['labels', 'tweet', 'input_ids', 'attention_mask'],\n",
       "        num_rows: 6931\n",
       "    })\n",
       "    test: Dataset({\n",
       "        features: ['labels', 'tweet', 'input_ids', 'attention_mask'],\n",
       "        num_rows: 1733\n",
       "    })\n",
       "})"
      ]
     },
     "execution_count": 8,
     "metadata": {},
     "output_type": "execute_result"
    }
   ],
   "source": [
    "checkpoint = '/root/autodl-tmp/cache'\n",
    "# checkpoint = 'roberta-base'\n",
    "tokenizer = RobertaTokenizer.from_pretrained(checkpoint)\n",
    "\n",
    "def tokenize_function(example):\n",
    "    return tokenizer(example['tweet'], truncation=True)\n",
    "\n",
    "tokenized_datasets = splited_datasets.map(tokenize_function, batched=True)\n",
    "data_collator = DataCollatorWithPadding(tokenizer=tokenizer)\n",
    "tokenized_datasets"
   ]
  },
  {
   "cell_type": "code",
   "execution_count": 9,
   "metadata": {},
   "outputs": [
    {
     "name": "stdout",
     "output_type": "stream",
     "text": [
      " shares what the great reimagination means for the future of work read all about it here httpurl \n",
      "[0, 327, 99, 5, 372, 26585, 1073, 8111, 839, 13, 5, 499, 9, 173, 1166, 70, 59, 24, 259, 2054, 6423, 1437, 2]\n",
      "[1, 1, 1, 1, 1, 1, 1, 1, 1, 1, 1, 1, 1, 1, 1, 1, 1, 1, 1, 1, 1, 1, 1]\n",
      "['<s>', 'Ġshares', 'Ġwhat', 'Ġthe', 'Ġgreat', 'Ġreim', 'ag', 'ination', 'Ġmeans', 'Ġfor', 'Ġthe', 'Ġfuture', 'Ġof', 'Ġwork', 'Ġread', 'Ġall', 'Ġabout', 'Ġit', 'Ġhere', 'Ġhttp', 'url', 'Ġ', '</s>']\n"
     ]
    }
   ],
   "source": [
    "print(tokenized_datasets['train'][0]['tweet'])\n",
    "input_ids = tokenized_datasets['train'][0]['input_ids']\n",
    "print(input_ids)\n",
    "print(tokenized_datasets['train'][0]['attention_mask'])\n",
    "decode_token = tokenizer.convert_ids_to_tokens(input_ids)\n",
    "print(decode_token)"
   ]
  },
  {
   "cell_type": "code",
   "execution_count": 10,
   "metadata": {},
   "outputs": [
    {
     "data": {
      "text/plain": [
       "['labels', 'input_ids', 'attention_mask']"
      ]
     },
     "execution_count": 10,
     "metadata": {},
     "output_type": "execute_result"
    }
   ],
   "source": [
    "tokenized_datasets = tokenized_datasets.remove_columns(['tweet'])\n",
    "tokenized_datasets.set_format('torch')\n",
    "tokenized_datasets['train'].column_names"
   ]
  },
  {
   "cell_type": "code",
   "execution_count": 11,
   "metadata": {},
   "outputs": [],
   "source": [
    "train_dataloader = DataLoader(\n",
    "    tokenized_datasets['train'],shuffle=True, batch_size=8, collate_fn=data_collator\n",
    ")\n",
    "eval_dataloader = DataLoader(\n",
    "    tokenized_datasets['test'], batch_size=8, collate_fn=data_collator\n",
    ")"
   ]
  },
  {
   "cell_type": "code",
   "execution_count": 12,
   "metadata": {},
   "outputs": [
    {
     "data": {
      "text/plain": [
       "{'labels': torch.Size([8]),\n",
       " 'input_ids': torch.Size([8, 55]),\n",
       " 'attention_mask': torch.Size([8, 55])}"
      ]
     },
     "execution_count": 12,
     "metadata": {},
     "output_type": "execute_result"
    }
   ],
   "source": [
    "for batch in train_dataloader:\n",
    "    break\n",
    "{k:v.shape for k, v in batch.items()}"
   ]
  },
  {
   "cell_type": "code",
   "execution_count": 13,
   "metadata": {},
   "outputs": [
    {
     "name": "stderr",
     "output_type": "stream",
     "text": [
      "Some weights of RobertaModel were not initialized from the model checkpoint at /root/autodl-tmp/cache and are newly initialized: ['roberta.pooler.dense.bias', 'roberta.pooler.dense.weight']\n",
      "You should probably TRAIN this model on a down-stream task to be able to use it for predictions and inference.\n",
      "/root/miniconda3/lib/python3.12/site-packages/torch/nn/modules/rnn.py:83: UserWarning: dropout option adds dropout after all but last recurrent layer, so non-zero dropout expects num_layers greater than 1, but got dropout=0.2 and num_layers=1\n",
      "  warnings.warn(\"dropout option adds dropout after all but last \"\n"
     ]
    },
    {
     "data": {
      "text/plain": [
       "device(type='cuda')"
      ]
     },
     "execution_count": 13,
     "metadata": {},
     "output_type": "execute_result"
    }
   ],
   "source": [
    "# Set up model, loss, and optimizer\n",
    "device = torch.device(\"cuda\" if torch.cuda.is_available() else \"cpu\")\n",
    "model = RobertaBilstmClassifier(num_classes=3, checkpoint=checkpoint, hidden_size=32)\n",
    "model = model.to(device)\n",
    "device\n",
    "# # Print model summary\n",
    "# def count_parameters(model):\n",
    "#         return sum(p.numel() for p in model.parameters() if p.requires_grad)\n",
    "    \n",
    "# print(\"Model Architecture:\")\n",
    "# print(model)\n",
    "# print(f\"\\nTrainable parameters: {count_parameters(model):,}\")"
   ]
  },
  {
   "cell_type": "code",
   "execution_count": 14,
   "metadata": {},
   "outputs": [
    {
     "name": "stdout",
     "output_type": "stream",
     "text": [
      "AdamW (\n",
      "Parameter Group 0\n",
      "    amsgrad: False\n",
      "    betas: (0.9, 0.999)\n",
      "    capturable: False\n",
      "    differentiable: False\n",
      "    eps: 1e-08\n",
      "    foreach: None\n",
      "    fused: None\n",
      "    lr: 1e-05\n",
      "    maximize: False\n",
      "    weight_decay: 0.01\n",
      "\n",
      "Parameter Group 1\n",
      "    amsgrad: False\n",
      "    betas: (0.9, 0.999)\n",
      "    capturable: False\n",
      "    differentiable: False\n",
      "    eps: 1e-08\n",
      "    foreach: None\n",
      "    fused: None\n",
      "    lr: 0.0001\n",
      "    maximize: False\n",
      "    weight_decay: 0.01\n",
      ")\n"
     ]
    }
   ],
   "source": [
    "optimizer_paramters = [\n",
    "    {\n",
    "        'params':model.roberta.parameters(),\n",
    "        'lr':1e-5\n",
    "    },\n",
    "    {\n",
    "        'params':[p for n, p in model.named_parameters() if not n.startswith('roberta')],\n",
    "        'lr':1e-4\n",
    "    }\n",
    "]\n",
    "optimizer = torch.optim.AdamW(optimizer_paramters)\n",
    "print(optimizer)\n",
    "\n",
    "\n"
   ]
  },
  {
   "cell_type": "code",
   "execution_count": 15,
   "metadata": {},
   "outputs": [
    {
     "name": "stdout",
     "output_type": "stream",
     "text": [
      "8670\n"
     ]
    }
   ],
   "source": [
    "num_epochs = 10\n",
    "\n",
    "num_training_steps = num_epochs * len(train_dataloader)\n",
    "\n",
    "lr_scheduler = get_scheduler(\n",
    "    \"linear\",\n",
    "    optimizer=optimizer,\n",
    "    num_warmup_steps=0,\n",
    "    num_training_steps=num_training_steps\n",
    ")\n",
    "print(num_training_steps)"
   ]
  },
  {
   "cell_type": "code",
   "execution_count": null,
   "metadata": {},
   "outputs": [
    {
     "data": {
      "application/vnd.jupyter.widget-view+json": {
       "model_id": "7b045e43d8be4ed3aaaff9c883ff3009",
       "version_major": 2,
       "version_minor": 0
      },
      "text/plain": [
       "[epoch 1/ epochs 10]:   0%|          | 0/867 [00:00<?, ?it/s]"
      ]
     },
     "metadata": {},
     "output_type": "display_data"
    },
    {
     "data": {
      "application/vnd.jupyter.widget-view+json": {
       "model_id": "8cb500da804e4579b2015e8bf0da6246",
       "version_major": 2,
       "version_minor": 0
      },
      "text/plain": [
       "[epoch 2/ epochs 10]:   0%|          | 0/867 [00:00<?, ?it/s]"
      ]
     },
     "metadata": {},
     "output_type": "display_data"
    },
    {
     "data": {
      "application/vnd.jupyter.widget-view+json": {
       "model_id": "dd341ed02f4c4f52b24fc8ba6c9c45bf",
       "version_major": 2,
       "version_minor": 0
      },
      "text/plain": [
       "[epoch 3/ epochs 10]:   0%|          | 0/867 [00:00<?, ?it/s]"
      ]
     },
     "metadata": {},
     "output_type": "display_data"
    },
    {
     "data": {
      "application/vnd.jupyter.widget-view+json": {
       "model_id": "9867660f4bba44c3932ba133478e77b6",
       "version_major": 2,
       "version_minor": 0
      },
      "text/plain": [
       "[epoch 4/ epochs 10]:   0%|          | 0/867 [00:00<?, ?it/s]"
      ]
     },
     "metadata": {},
     "output_type": "display_data"
    },
    {
     "data": {
      "application/vnd.jupyter.widget-view+json": {
       "model_id": "aba5af137cec4c7699e5d14722a9ff08",
       "version_major": 2,
       "version_minor": 0
      },
      "text/plain": [
       "[epoch 5/ epochs 10]:   0%|          | 0/867 [00:00<?, ?it/s]"
      ]
     },
     "metadata": {},
     "output_type": "display_data"
    },
    {
     "data": {
      "application/vnd.jupyter.widget-view+json": {
       "model_id": "7e1d5d05a62d49e287cca919bee17e6b",
       "version_major": 2,
       "version_minor": 0
      },
      "text/plain": [
       "[epoch 6/ epochs 10]:   0%|          | 0/867 [00:00<?, ?it/s]"
      ]
     },
     "metadata": {},
     "output_type": "display_data"
    },
    {
     "data": {
      "application/vnd.jupyter.widget-view+json": {
       "model_id": "402aaa8852424cd8b21fb8818f5f25c7",
       "version_major": 2,
       "version_minor": 0
      },
      "text/plain": [
       "[epoch 7/ epochs 10]:   0%|          | 0/867 [00:00<?, ?it/s]"
      ]
     },
     "metadata": {},
     "output_type": "display_data"
    },
    {
     "data": {
      "application/vnd.jupyter.widget-view+json": {
       "model_id": "18e949ec382c47009fd4f68797542b75",
       "version_major": 2,
       "version_minor": 0
      },
      "text/plain": [
       "[epoch 8/ epochs 10]:   0%|          | 0/867 [00:00<?, ?it/s]"
      ]
     },
     "metadata": {},
     "output_type": "display_data"
    },
    {
     "data": {
      "application/vnd.jupyter.widget-view+json": {
       "model_id": "9ca3b921f2c34e4f8b6c12985b0a567e",
       "version_major": 2,
       "version_minor": 0
      },
      "text/plain": [
       "[epoch 9/ epochs 10]:   0%|          | 0/867 [00:00<?, ?it/s]"
      ]
     },
     "metadata": {},
     "output_type": "display_data"
    },
    {
     "data": {
      "application/vnd.jupyter.widget-view+json": {
       "model_id": "071155a56ea346cc8046cfdacb711f58",
       "version_major": 2,
       "version_minor": 0
      },
      "text/plain": [
       "[epoch 10/ epochs 10]:   0%|          | 0/867 [00:00<?, ?it/s]"
      ]
     },
     "metadata": {},
     "output_type": "display_data"
    }
   ],
   "source": [
    "criterion = nn.CrossEntropyLoss()\n",
    "\n",
    "train_losses = []\n",
    "train_accuracies = []\n",
    "val_losses = []\n",
    "val_accuracies = []\n",
    "for epoch in range(num_epochs):\n",
    "    progress_bar = tqdm.notebook.tqdm(range(len(train_dataloader)), desc=f\"[epoch{epoch+1}/epochs{num_epochs}]\")\n",
    "    model.train()\n",
    "    train_total_loss = 0\n",
    "    train_correct = 0\n",
    "    train_total = 0\n",
    "    \n",
    "    for batch in train_dataloader:\n",
    "        batch = {k: v.to(device) for k, v in batch.items()}\n",
    "        outputs = model(batch['input_ids'], batch['attention_mask'])\n",
    "        \n",
    "        train_loss = criterion(outputs, batch['labels'])\n",
    "\n",
    "        train_loss.backward()\n",
    "        optimizer.step()\n",
    "        lr_scheduler.step()\n",
    "        optimizer.zero_grad()\n",
    "     \n",
    "\n",
    "        train_total_loss +=train_loss.item()\n",
    "\n",
    "        _, preds = outputs.max(1)\n",
    "        train_correct += torch.sum(preds == batch[\"labels\"]).cpu()\n",
    "\n",
    "        train_total +=batch[\"labels\"].size(0)\n",
    "        progress_bar.set_postfix({'train_loss': f'{train_loss.item():.4f}', 'train_accuracy': f'{train_correct/train_total:.4f}'})\n",
    "        progress_bar.update(1)\n",
    "    \n",
    "    train_avg_loss = train_total_loss / len(train_dataloader)\n",
    "    train_avg_accuracy = train_correct / train_total\n",
    "    train_losses.append(train_avg_loss)\n",
    "    train_accuracies.append(train_avg_accuracy)\n",
    "\n",
    "\n",
    "    model.eval()\n",
    "    eval_total_loss = 0\n",
    "    eval_correct_predictions = 0\n",
    "    eval_total = 0\n",
    "\n",
    "    with torch.no_grad():\n",
    "        for batch in eval_dataloader:\n",
    "            batch = {k: v.to(device) for k, v in batch.items()}\n",
    "            outputs = model(batch['input_ids'], batch['attention_mask'])\n",
    "            eval_loss = criterion(outputs,batch['labels'])\n",
    "\n",
    "            eval_total_loss += eval_loss.item()\n",
    "            _, preds = outputs.max(1)\n",
    "            eval_correct_predictions += torch.sum(preds == batch[\"labels\"]).cpu()\n",
    "            eval_total +=batch[\"labels\"].size(0)\n",
    "\n",
    "    eval_avg_loss = eval_total_loss / len(eval_dataloader)\n",
    "    eval_avg_accuracy = eval_correct_predictions / eval_total\n",
    "    val_losses.append(eval_avg_loss)\n",
    "    val_accuracies.append(eval_avg_accuracy)\n",
    "    progress_bar.set_postfix({'train_loss': f'{train_avg_loss:.4f}', 'training_accuracy': f'{train_avg_accuracy:.4f}',\n",
    "                              'Val_loss': f'{eval_avg_loss:.4f}', 'Val_accuracy': f'{eval_avg_accuracy:.4f}'})\n",
    "\n",
    "    \n"
   ]
  },
  {
   "cell_type": "code",
   "execution_count": 27,
   "metadata": {},
   "outputs": [
    {
     "data": {
      "image/png": "[encoded data removed]",
      "text/plain": [
       "<Figure size 1200x500 with 2 Axes>"
      ]
     },
     "metadata": {},
     "output_type": "display_data"
    }
   ],
   "source": [
    "# Plotting training loss and accuracy\n",
    "plt.figure(figsize=(12, 5))\n",
    "\n",
    "# Loss plot\n",
    "plt.subplot(1, 2, 1)\n",
    "plt.plot(range(1,num_epochs +1), train_losses, label='Training Loss')\n",
    "plt.plot(range(1, num_epochs+1), val_losses, label ='Validation Loss')\n",
    "plt.xlabel('Epochs')\n",
    "plt.ylabel('Loss')\n",
    "plt.title('Training and Validation Loss over Epochs')\n",
    "plt.legend()\n",
    "\n",
    "# Accuracy plot\n",
    "plt.subplot(1, 2, 2)\n",
    "plt.plot(range(1, num_epochs + 1), train_accuracies, label='Training Accuracy')\n",
    "plt.plot(range(1, num_epochs + 1), val_accuracies, label='Validation Accuracy')\n",
    "plt.xlabel('Epochs')\n",
    "plt.ylabel('Accuracy')\n",
    "plt.title('Training and Validation Accuracy Over Epochs')\n",
    "plt.legend()\n",
    "\n",
    "plt.tight_layout()\n",
    "plt.show()\n"
   ]
  },
  {
   "cell_type": "code",
   "execution_count": 28,
   "metadata": {},
   "outputs": [
    {
     "data": {
      "image/png": "[encoded data removed]",
      "text/plain": [
       "<Figure size 640x480 with 1 Axes>"
      ]
     },
     "metadata": {},
     "output_type": "display_data"
    },
    {
     "name": "stdout",
     "output_type": "stream",
     "text": [
      "              precision    recall  f1-score   support\n",
      "\n",
      "     BIPOLAR       0.99      0.99      0.99       565\n",
      "  DEPRESSION       0.99      0.98      0.99       589\n",
      "        ADHD       0.99      0.99      0.99       579\n",
      "\n",
      "    accuracy                           0.99      1733\n",
      "   macro avg       0.99      0.99      0.99      1733\n",
      "weighted avg       0.99      0.99      0.99      1733\n",
      "\n"
     ]
    }
   ],
   "source": [
    "# Evaluation\n",
    "# metric = evaluate.load(\"accuracy\")\n",
    "model.eval()\n",
    "\n",
    "all_predictions = []\n",
    "all_labels = []\n",
    "\n",
    "for batch in eval_dataloader:\n",
    "    batch = {k: v.to(device) for k,v in batch.items()}\n",
    "    with torch.no_grad():\n",
    "        outputs = model(batch['input_ids'],batch['attention_mask'])\n",
    "    \n",
    "    _, predictions = outputs.max(1)\n",
    "\n",
    "    all_predictions.extend(predictions.cpu().numpy())\n",
    "    all_labels.extend(batch[\"labels\"].cpu().numpy())\n",
    "\n",
    "    # metric.add_batch(predictions=predictions, References=batch[\"labels\"])\n",
    "\n",
    "# results = metric.compute()\n",
    "# print(\"Evaluation Results:\", results)\n",
    "\n",
    "conf_matrix = confusion_matrix(all_labels, all_predictions)\n",
    "# labels=[\"ADHD\", \"BIPO\", \"DEP\"]\n",
    "fig, ax = plt.subplots()\n",
    "sns.heatmap(conf_matrix, annot=True, cmap=\"Blues\", fmt='g', cbar=False)\n",
    "ax.xaxis.set_ticklabels(unique_labels)\n",
    "ax.yaxis.set_ticklabels(unique_labels)\n",
    "plt.xlabel('Predicted')\n",
    "plt.ylabel('Actual')\n",
    "plt.title('Roberta+BiLSTM Analysis Confusion Matrix')\n",
    "plt.show()\n",
    "\n",
    "print(classification_report(all_labels, all_predictions, target_names=unique_labels))"
   ]
  }
 ],
 "metadata": {
  "kernelspec": {
   "display_name": "Python 3",
   "language": "python",
   "name": "python3"
  },
  "language_info": {
   "codemirror_mode": {
    "name": "ipython",
    "version": 3
   },
   "file_extension": ".py",
   "mimetype": "text/x-python",
   "name": "python",
   "nbconvert_exporter": "python",
   "pygments_lexer": "ipython3",
   "version": "3.9.6"
  }
 },
 "nbformat": 4,
 "nbformat_minor": 2
}
